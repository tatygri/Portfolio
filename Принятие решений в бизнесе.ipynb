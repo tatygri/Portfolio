{
 "cells": [
  {
   "cell_type": "markdown",
   "id": "9f01cd66",
   "metadata": {},
   "source": [
    "# Принятие решений в бизнесе"
   ]
  },
  {
   "cell_type": "markdown",
   "id": "c511298c",
   "metadata": {},
   "source": [
    "## Цели и задачи\n",
    "\n",
    "Приоритизировать гипотезы, предложенные для увеличения выручки; запустить A/B-тест и проанализировать результаты. Дать предложения для увеличения выручки."
   ]
  },
  {
   "cell_type": "markdown",
   "id": "aceef270",
   "metadata": {},
   "source": [
    "### Данные для первой части\n",
    "Файл hypothesis.csv. \n",
    "- Hypothesis — краткое описание гипотезы;\n",
    "- Reach — охват пользователей по 10-балльной шкале;\n",
    "- Impact — влияние на пользователей по 10-балльной шкале;\n",
    "- Confidence — уверенность в гипотезе по 10-балльной шкале;\n",
    "- Efforts — затраты ресурсов на проверку гипотезы по 10-балльной шкале. Чем больше значение Efforts, тем дороже проверка гипотезы.\n",
    "\n",
    "### Данные для второй части\n",
    "Файл orders.csv. \n",
    "- transactionId — идентификатор заказа;\n",
    "- visitorId — идентификатор пользователя, совершившего заказ;\n",
    "- date — дата, когда был совершён заказ;\n",
    "- revenue — выручка заказа;\n",
    "- group — группа A/B-теста, в которую попал заказ.\n",
    "\n",
    "\n",
    "Файл visitors.csv. \n",
    "- date — дата;\n",
    "- group — группа A/B-теста;\n",
    "- visitors — количество пользователей в указанную дату в указанной группе A/B-теста\n"
   ]
  },
  {
   "cell_type": "markdown",
   "id": "fea4eea2",
   "metadata": {},
   "source": [
    "### План работы по проекту:\n",
    "\n",
    "- Часть 1. Приоритизация гипотез.\n",
    "\n",
    "#### Задача:\n",
    "- Примените фреймворк ICE для приоритизации гипотез. Отсортируйте их по убыванию приоритета.\n",
    "- Примените фреймворк RICE для приоритизации гипотез. Отсортируйте их по убыванию приоритета.\n",
    "- Укажите, как изменилась приоритизация гипотез при применении RICE вместо ICE. Объясните, почему так произошло.\n",
    "\n",
    "\n",
    "- Часть 2. Анализ A/B-теста\n",
    "\n",
    "#### Задача:\n",
    "1. Проанализируйте A/B-тест:\n",
    "- Постройте график кумулятивной выручки по группам. Сделайте выводы и предположения.\n",
    "- Постройте график кумулятивного среднего чека по группам. Сделайте выводы и предположения.\n",
    "- Постройте график относительного изменения кумулятивного среднего чека группы B к группе A. Сделайте выводы и предположения.\n",
    "- Постройте график кумулятивного среднего количества заказов на посетителя по группам. Сделайте выводы и предположения.\n",
    "- Постройте график относительного изменения кумулятивного среднего количества заказов на посетителя группы B к группе A. Сделайте выводы и предположения.\n",
    "- Постройте точечный график количества заказов по пользователям. Сделайте выводы и предположения.\n",
    "- Посчитайте 95-й и 99-й перцентили количества заказов на пользователя. Выберите границу для определения аномальных пользователей.\n",
    "- Постройте точечный график стоимостей заказов. Сделайте выводы и предположения.\n",
    "- Посчитайте 95-й и 99-й перцентили стоимости заказов. Выберите границу для определения аномальных заказов.\n",
    "- Посчитайте статистическую значимость различий в среднем количестве заказов на посетителя между группами по «сырым» данным. Сделайте выводы и предположения.\n",
    "- Посчитайте статистическую значимость различий в среднем чеке заказа между группами по «сырым» данным. Сделайте выводы и предположения.\n",
    "- Посчитайте статистическую значимость различий в среднем количестве заказов на посетителя между группами по «очищенным» данным. Сделайте выводы и предположения.\n",
    "- Посчитайте статистическую значимость различий в среднем чеке заказа между группами по «очищенным» данным.\n",
    "\n",
    "2. Сделайте выводы и предположения.\n",
    "- Примите решение по результатам теста и объясните его. Варианты решений:\n",
    " a) Остановить тест, зафиксировать победу одной из групп.\n",
    " b) Остановить тест, зафиксировать отсутствие различий между группами.\n",
    " c) Продолжить тест."
   ]
  },
  {
   "cell_type": "markdown",
   "id": "2273a11c",
   "metadata": {},
   "source": [
    "Начинаем работу с загрузки файлов и их подготовки к анализу"
   ]
  },
  {
   "cell_type": "code",
   "execution_count": 1,
   "id": "83a868ac",
   "metadata": {
    "scrolled": true
   },
   "outputs": [],
   "source": [
    "# загружаем библиотеки\n",
    "\n",
    "import pandas as pd\n",
    "import datetime as dt\n",
    "import numpy as np\n",
    "import matplotlib.pyplot as plt\n",
    "import scipy.stats as stats\n",
    "from pandas.plotting import register_matplotlib_converters\n",
    "import warnings\n",
    "from venn import venn"
   ]
  },
  {
   "cell_type": "code",
   "execution_count": 2,
   "id": "ebdbb567",
   "metadata": {},
   "outputs": [],
   "source": [
    "# загружаем данные\n",
    "try:\n",
    "    hypothesis = pd.read_csv('hypothesis.csv') # хранит информацию по гипотезам\n",
    "     \n",
    "except:\n",
    "    \n",
    "    hypothesis = pd.read_csv('https://cod...hypothesis.csv') \n",
    "    "
   ]
  },
  {
   "cell_type": "markdown",
   "id": "fddb30d2",
   "metadata": {},
   "source": [
    "Посмотрим что представлют из себя данные о гипотезах"
   ]
  },
  {
   "cell_type": "code",
   "execution_count": 3,
   "id": "f62878bf",
   "metadata": {
    "scrolled": true
   },
   "outputs": [
    {
     "data": {
      "text/html": [
       "<style type=\"text/css\">\n",
       "</style>\n",
       "<table id=\"T_bc938\">\n",
       "  <thead>\n",
       "    <tr>\n",
       "      <th class=\"blank level0\" >&nbsp;</th>\n",
       "      <th id=\"T_bc938_level0_col0\" class=\"col_heading level0 col0\" >Hypothesis</th>\n",
       "      <th id=\"T_bc938_level0_col1\" class=\"col_heading level0 col1\" >Reach</th>\n",
       "      <th id=\"T_bc938_level0_col2\" class=\"col_heading level0 col2\" >Impact</th>\n",
       "      <th id=\"T_bc938_level0_col3\" class=\"col_heading level0 col3\" >Confidence</th>\n",
       "      <th id=\"T_bc938_level0_col4\" class=\"col_heading level0 col4\" >Efforts</th>\n",
       "    </tr>\n",
       "  </thead>\n",
       "  <tbody>\n",
       "    <tr>\n",
       "      <th id=\"T_bc938_level0_row0\" class=\"row_heading level0 row0\" >0</th>\n",
       "      <td id=\"T_bc938_row0_col0\" class=\"data row0 col0\" >Добавить два новых канала привлечения трафика, что позволит привлекать на 30% больше пользователей</td>\n",
       "      <td id=\"T_bc938_row0_col1\" class=\"data row0 col1\" >3</td>\n",
       "      <td id=\"T_bc938_row0_col2\" class=\"data row0 col2\" >10</td>\n",
       "      <td id=\"T_bc938_row0_col3\" class=\"data row0 col3\" >8</td>\n",
       "      <td id=\"T_bc938_row0_col4\" class=\"data row0 col4\" >6</td>\n",
       "    </tr>\n",
       "    <tr>\n",
       "      <th id=\"T_bc938_level0_row1\" class=\"row_heading level0 row1\" >1</th>\n",
       "      <td id=\"T_bc938_row1_col0\" class=\"data row1 col0\" >Запустить собственную службу доставки, что сократит срок доставки заказов</td>\n",
       "      <td id=\"T_bc938_row1_col1\" class=\"data row1 col1\" >2</td>\n",
       "      <td id=\"T_bc938_row1_col2\" class=\"data row1 col2\" >5</td>\n",
       "      <td id=\"T_bc938_row1_col3\" class=\"data row1 col3\" >4</td>\n",
       "      <td id=\"T_bc938_row1_col4\" class=\"data row1 col4\" >10</td>\n",
       "    </tr>\n",
       "    <tr>\n",
       "      <th id=\"T_bc938_level0_row2\" class=\"row_heading level0 row2\" >2</th>\n",
       "      <td id=\"T_bc938_row2_col0\" class=\"data row2 col0\" >Добавить блоки рекомендаций товаров на сайт интернет магазина, чтобы повысить конверсию и средний чек заказа</td>\n",
       "      <td id=\"T_bc938_row2_col1\" class=\"data row2 col1\" >8</td>\n",
       "      <td id=\"T_bc938_row2_col2\" class=\"data row2 col2\" >3</td>\n",
       "      <td id=\"T_bc938_row2_col3\" class=\"data row2 col3\" >7</td>\n",
       "      <td id=\"T_bc938_row2_col4\" class=\"data row2 col4\" >3</td>\n",
       "    </tr>\n",
       "    <tr>\n",
       "      <th id=\"T_bc938_level0_row3\" class=\"row_heading level0 row3\" >3</th>\n",
       "      <td id=\"T_bc938_row3_col0\" class=\"data row3 col0\" >Изменить структура категорий, что увеличит конверсию, т.к. пользователи быстрее найдут нужный товар</td>\n",
       "      <td id=\"T_bc938_row3_col1\" class=\"data row3 col1\" >8</td>\n",
       "      <td id=\"T_bc938_row3_col2\" class=\"data row3 col2\" >3</td>\n",
       "      <td id=\"T_bc938_row3_col3\" class=\"data row3 col3\" >3</td>\n",
       "      <td id=\"T_bc938_row3_col4\" class=\"data row3 col4\" >8</td>\n",
       "    </tr>\n",
       "    <tr>\n",
       "      <th id=\"T_bc938_level0_row4\" class=\"row_heading level0 row4\" >4</th>\n",
       "      <td id=\"T_bc938_row4_col0\" class=\"data row4 col0\" >Изменить цвет фона главной страницы, чтобы увеличить вовлеченность пользователей</td>\n",
       "      <td id=\"T_bc938_row4_col1\" class=\"data row4 col1\" >3</td>\n",
       "      <td id=\"T_bc938_row4_col2\" class=\"data row4 col2\" >1</td>\n",
       "      <td id=\"T_bc938_row4_col3\" class=\"data row4 col3\" >1</td>\n",
       "      <td id=\"T_bc938_row4_col4\" class=\"data row4 col4\" >1</td>\n",
       "    </tr>\n",
       "    <tr>\n",
       "      <th id=\"T_bc938_level0_row5\" class=\"row_heading level0 row5\" >5</th>\n",
       "      <td id=\"T_bc938_row5_col0\" class=\"data row5 col0\" >Добавить страницу отзывов клиентов о магазине, что позволит увеличить количество заказов</td>\n",
       "      <td id=\"T_bc938_row5_col1\" class=\"data row5 col1\" >3</td>\n",
       "      <td id=\"T_bc938_row5_col2\" class=\"data row5 col2\" >2</td>\n",
       "      <td id=\"T_bc938_row5_col3\" class=\"data row5 col3\" >2</td>\n",
       "      <td id=\"T_bc938_row5_col4\" class=\"data row5 col4\" >3</td>\n",
       "    </tr>\n",
       "    <tr>\n",
       "      <th id=\"T_bc938_level0_row6\" class=\"row_heading level0 row6\" >6</th>\n",
       "      <td id=\"T_bc938_row6_col0\" class=\"data row6 col0\" >Показать на главной странице баннеры с актуальными акциями и распродажами, чтобы увеличить конверсию</td>\n",
       "      <td id=\"T_bc938_row6_col1\" class=\"data row6 col1\" >5</td>\n",
       "      <td id=\"T_bc938_row6_col2\" class=\"data row6 col2\" >3</td>\n",
       "      <td id=\"T_bc938_row6_col3\" class=\"data row6 col3\" >8</td>\n",
       "      <td id=\"T_bc938_row6_col4\" class=\"data row6 col4\" >3</td>\n",
       "    </tr>\n",
       "    <tr>\n",
       "      <th id=\"T_bc938_level0_row7\" class=\"row_heading level0 row7\" >7</th>\n",
       "      <td id=\"T_bc938_row7_col0\" class=\"data row7 col0\" >Добавить форму подписки на все основные страницы, чтобы собрать базу клиентов для email-рассылок</td>\n",
       "      <td id=\"T_bc938_row7_col1\" class=\"data row7 col1\" >10</td>\n",
       "      <td id=\"T_bc938_row7_col2\" class=\"data row7 col2\" >7</td>\n",
       "      <td id=\"T_bc938_row7_col3\" class=\"data row7 col3\" >8</td>\n",
       "      <td id=\"T_bc938_row7_col4\" class=\"data row7 col4\" >5</td>\n",
       "    </tr>\n",
       "    <tr>\n",
       "      <th id=\"T_bc938_level0_row8\" class=\"row_heading level0 row8\" >8</th>\n",
       "      <td id=\"T_bc938_row8_col0\" class=\"data row8 col0\" >Запустить акцию, дающую скидку на товар в день рождения</td>\n",
       "      <td id=\"T_bc938_row8_col1\" class=\"data row8 col1\" >1</td>\n",
       "      <td id=\"T_bc938_row8_col2\" class=\"data row8 col2\" >9</td>\n",
       "      <td id=\"T_bc938_row8_col3\" class=\"data row8 col3\" >9</td>\n",
       "      <td id=\"T_bc938_row8_col4\" class=\"data row8 col4\" >5</td>\n",
       "    </tr>\n",
       "  </tbody>\n",
       "</table>\n"
      ],
      "text/plain": [
       "<pandas.io.formats.style.Styler at 0x124185690>"
      ]
     },
     "execution_count": 3,
     "metadata": {},
     "output_type": "execute_result"
    }
   ],
   "source": [
    "hypothesis.head(10).style"
   ]
  },
  {
   "cell_type": "markdown",
   "id": "89ebd798",
   "metadata": {},
   "source": [
    "Переименуем столбцы со строчной буквы"
   ]
  },
  {
   "cell_type": "code",
   "execution_count": 4,
   "id": "7e0c3722",
   "metadata": {},
   "outputs": [],
   "source": [
    "hypothesis.columns = hypothesis.columns.str.lower()"
   ]
  },
  {
   "cell_type": "code",
   "execution_count": 5,
   "id": "39db84e3",
   "metadata": {
    "scrolled": true
   },
   "outputs": [
    {
     "name": "stdout",
     "output_type": "stream",
     "text": [
      "<class 'pandas.core.frame.DataFrame'>\n",
      "RangeIndex: 9 entries, 0 to 8\n",
      "Data columns (total 5 columns):\n",
      " #   Column      Non-Null Count  Dtype \n",
      "---  ------      --------------  ----- \n",
      " 0   hypothesis  9 non-null      object\n",
      " 1   reach       9 non-null      int64 \n",
      " 2   impact      9 non-null      int64 \n",
      " 3   confidence  9 non-null      int64 \n",
      " 4   efforts     9 non-null      int64 \n",
      "dtypes: int64(4), object(1)\n",
      "memory usage: 492.0+ bytes\n"
     ]
    }
   ],
   "source": [
    "hypothesis.info()"
   ]
  },
  {
   "cell_type": "markdown",
   "id": "a4b1cab6",
   "metadata": {},
   "source": [
    "#### В ДФ hypothesis 9 строк и 5 столбцов с данными"
   ]
  },
  {
   "cell_type": "markdown",
   "id": "cf80aa64",
   "metadata": {},
   "source": [
    "## Часть 1. Приоритизация гипотез.\n",
    "\n",
    "#### 1.1 Применим фреймворк ICE для приоритизации гипотез. Отсортируем их по убыванию приоритета."
   ]
  },
  {
   "cell_type": "code",
   "execution_count": 6,
   "id": "758fc731",
   "metadata": {},
   "outputs": [],
   "source": [
    "# Вычисляем по формуле для ICE\n",
    "hypothesis['ICE'] = hypothesis['impact'] * hypothesis['confidence'] / hypothesis['efforts']\n",
    "\n",
    "# Создаем новый DataFrame только с 'hypothesis' и 'ICE'\n",
    "ice_data = hypothesis[['hypothesis', 'ICE']]\n",
    "\n",
    "# Сортируем по столбцу 'ICE' по убыванию\n",
    "sorted_ice = ice_data.sort_values(by='ICE', ascending=False)\n",
    "pd.options.display.max_colwidth = 1\n",
    "sorted_ice['ICE'] = sorted_ice['ICE'].round(3)\n"
   ]
  },
  {
   "cell_type": "code",
   "execution_count": 7,
   "id": "81f32618",
   "metadata": {
    "scrolled": true
   },
   "outputs": [
    {
     "data": {
      "text/html": [
       "<div>\n",
       "<style scoped>\n",
       "    .dataframe tbody tr th:only-of-type {\n",
       "        vertical-align: middle;\n",
       "    }\n",
       "\n",
       "    .dataframe tbody tr th {\n",
       "        vertical-align: top;\n",
       "    }\n",
       "\n",
       "    .dataframe thead th {\n",
       "        text-align: right;\n",
       "    }\n",
       "</style>\n",
       "<table border=\"1\" class=\"dataframe\">\n",
       "  <thead>\n",
       "    <tr style=\"text-align: right;\">\n",
       "      <th></th>\n",
       "      <th>hypothesis</th>\n",
       "      <th>ICE</th>\n",
       "    </tr>\n",
       "  </thead>\n",
       "  <tbody>\n",
       "    <tr>\n",
       "      <th>8</th>\n",
       "      <td>Запустить акцию, дающую скидку на товар в день рождения</td>\n",
       "      <td>16.200</td>\n",
       "    </tr>\n",
       "    <tr>\n",
       "      <th>0</th>\n",
       "      <td>Добавить два новых канала привлечения трафика, что позволит привлекать на 30% больше пользователей</td>\n",
       "      <td>13.333</td>\n",
       "    </tr>\n",
       "    <tr>\n",
       "      <th>7</th>\n",
       "      <td>Добавить форму подписки на все основные страницы, чтобы собрать базу клиентов для email-рассылок</td>\n",
       "      <td>11.200</td>\n",
       "    </tr>\n",
       "    <tr>\n",
       "      <th>6</th>\n",
       "      <td>Показать на главной странице баннеры с актуальными акциями и распродажами, чтобы увеличить конверсию</td>\n",
       "      <td>8.000</td>\n",
       "    </tr>\n",
       "    <tr>\n",
       "      <th>2</th>\n",
       "      <td>Добавить блоки рекомендаций товаров на сайт интернет магазина, чтобы повысить конверсию и средний чек заказа</td>\n",
       "      <td>7.000</td>\n",
       "    </tr>\n",
       "    <tr>\n",
       "      <th>1</th>\n",
       "      <td>Запустить собственную службу доставки, что сократит срок доставки заказов</td>\n",
       "      <td>2.000</td>\n",
       "    </tr>\n",
       "    <tr>\n",
       "      <th>5</th>\n",
       "      <td>Добавить страницу отзывов клиентов о магазине, что позволит увеличить количество заказов</td>\n",
       "      <td>1.333</td>\n",
       "    </tr>\n",
       "    <tr>\n",
       "      <th>3</th>\n",
       "      <td>Изменить структура категорий, что увеличит конверсию, т.к. пользователи быстрее найдут нужный товар</td>\n",
       "      <td>1.125</td>\n",
       "    </tr>\n",
       "    <tr>\n",
       "      <th>4</th>\n",
       "      <td>Изменить цвет фона главной страницы, чтобы увеличить вовлеченность пользователей</td>\n",
       "      <td>1.000</td>\n",
       "    </tr>\n",
       "  </tbody>\n",
       "</table>\n",
       "</div>"
      ],
      "text/plain": [
       "                                                                                                     hypothesis  \\\n",
       "8  Запустить акцию, дающую скидку на товар в день рождения                                                        \n",
       "0  Добавить два новых канала привлечения трафика, что позволит привлекать на 30% больше пользователей             \n",
       "7  Добавить форму подписки на все основные страницы, чтобы собрать базу клиентов для email-рассылок               \n",
       "6  Показать на главной странице баннеры с актуальными акциями и распродажами, чтобы увеличить конверсию           \n",
       "2  Добавить блоки рекомендаций товаров на сайт интернет магазина, чтобы повысить конверсию и средний чек заказа   \n",
       "1  Запустить собственную службу доставки, что сократит срок доставки заказов                                      \n",
       "5  Добавить страницу отзывов клиентов о магазине, что позволит увеличить количество заказов                       \n",
       "3  Изменить структура категорий, что увеличит конверсию, т.к. пользователи быстрее найдут нужный товар            \n",
       "4  Изменить цвет фона главной страницы, чтобы увеличить вовлеченность пользователей                               \n",
       "\n",
       "      ICE  \n",
       "8  16.200  \n",
       "0  13.333  \n",
       "7  11.200  \n",
       "6  8.000   \n",
       "2  7.000   \n",
       "1  2.000   \n",
       "5  1.333   \n",
       "3  1.125   \n",
       "4  1.000   "
      ]
     },
     "execution_count": 7,
     "metadata": {},
     "output_type": "execute_result"
    }
   ],
   "source": [
    "sorted_ice"
   ]
  },
  {
   "cell_type": "markdown",
   "id": "1e9ebca7",
   "metadata": {},
   "source": [
    "После упорядочивания, мы можем сказать, что приоритетными считаются гипотезы 8, 0 и 7."
   ]
  },
  {
   "cell_type": "markdown",
   "id": "2ef0a859",
   "metadata": {},
   "source": [
    "#### 1.2 Примените фреймворк RICE для приоритизации гипотез. Отсортируйте их по убыванию приоритета."
   ]
  },
  {
   "cell_type": "code",
   "execution_count": 8,
   "id": "50c1b904",
   "metadata": {},
   "outputs": [],
   "source": [
    "# вычисляем по формуле RICE\n",
    "hypothesis['RICE'] = hypothesis['reach'] * hypothesis['impact'] * hypothesis['confidence'] / hypothesis['efforts']\n",
    "\n",
    "# Выводим из получившейся таблицы столбцы 'hypothesis' и 'RICE', отсортируем по столбцу 'RICE'\n",
    "sorted_rice = hypothesis[['hypothesis', 'RICE']].sort_values(by='RICE', ascending=False)"
   ]
  },
  {
   "cell_type": "code",
   "execution_count": 9,
   "id": "1a641432",
   "metadata": {},
   "outputs": [
    {
     "data": {
      "text/html": [
       "<style type=\"text/css\">\n",
       "</style>\n",
       "<table id=\"T_c8ae6\">\n",
       "  <thead>\n",
       "    <tr>\n",
       "      <th class=\"blank level0\" >&nbsp;</th>\n",
       "      <th id=\"T_c8ae6_level0_col0\" class=\"col_heading level0 col0\" >hypothesis</th>\n",
       "      <th id=\"T_c8ae6_level0_col1\" class=\"col_heading level0 col1\" >RICE</th>\n",
       "    </tr>\n",
       "  </thead>\n",
       "  <tbody>\n",
       "    <tr>\n",
       "      <th id=\"T_c8ae6_level0_row0\" class=\"row_heading level0 row0\" >7</th>\n",
       "      <td id=\"T_c8ae6_row0_col0\" class=\"data row0 col0\" >Добавить форму подписки на все основные страницы, чтобы собрать базу клиентов для email-рассылок</td>\n",
       "      <td id=\"T_c8ae6_row0_col1\" class=\"data row0 col1\" >112.000000</td>\n",
       "    </tr>\n",
       "    <tr>\n",
       "      <th id=\"T_c8ae6_level0_row1\" class=\"row_heading level0 row1\" >2</th>\n",
       "      <td id=\"T_c8ae6_row1_col0\" class=\"data row1 col0\" >Добавить блоки рекомендаций товаров на сайт интернет магазина, чтобы повысить конверсию и средний чек заказа</td>\n",
       "      <td id=\"T_c8ae6_row1_col1\" class=\"data row1 col1\" >56.000000</td>\n",
       "    </tr>\n",
       "    <tr>\n",
       "      <th id=\"T_c8ae6_level0_row2\" class=\"row_heading level0 row2\" >0</th>\n",
       "      <td id=\"T_c8ae6_row2_col0\" class=\"data row2 col0\" >Добавить два новых канала привлечения трафика, что позволит привлекать на 30% больше пользователей</td>\n",
       "      <td id=\"T_c8ae6_row2_col1\" class=\"data row2 col1\" >40.000000</td>\n",
       "    </tr>\n",
       "    <tr>\n",
       "      <th id=\"T_c8ae6_level0_row3\" class=\"row_heading level0 row3\" >6</th>\n",
       "      <td id=\"T_c8ae6_row3_col0\" class=\"data row3 col0\" >Показать на главной странице баннеры с актуальными акциями и распродажами, чтобы увеличить конверсию</td>\n",
       "      <td id=\"T_c8ae6_row3_col1\" class=\"data row3 col1\" >40.000000</td>\n",
       "    </tr>\n",
       "    <tr>\n",
       "      <th id=\"T_c8ae6_level0_row4\" class=\"row_heading level0 row4\" >8</th>\n",
       "      <td id=\"T_c8ae6_row4_col0\" class=\"data row4 col0\" >Запустить акцию, дающую скидку на товар в день рождения</td>\n",
       "      <td id=\"T_c8ae6_row4_col1\" class=\"data row4 col1\" >16.200000</td>\n",
       "    </tr>\n",
       "    <tr>\n",
       "      <th id=\"T_c8ae6_level0_row5\" class=\"row_heading level0 row5\" >3</th>\n",
       "      <td id=\"T_c8ae6_row5_col0\" class=\"data row5 col0\" >Изменить структура категорий, что увеличит конверсию, т.к. пользователи быстрее найдут нужный товар</td>\n",
       "      <td id=\"T_c8ae6_row5_col1\" class=\"data row5 col1\" >9.000000</td>\n",
       "    </tr>\n",
       "    <tr>\n",
       "      <th id=\"T_c8ae6_level0_row6\" class=\"row_heading level0 row6\" >1</th>\n",
       "      <td id=\"T_c8ae6_row6_col0\" class=\"data row6 col0\" >Запустить собственную службу доставки, что сократит срок доставки заказов</td>\n",
       "      <td id=\"T_c8ae6_row6_col1\" class=\"data row6 col1\" >4.000000</td>\n",
       "    </tr>\n",
       "    <tr>\n",
       "      <th id=\"T_c8ae6_level0_row7\" class=\"row_heading level0 row7\" >5</th>\n",
       "      <td id=\"T_c8ae6_row7_col0\" class=\"data row7 col0\" >Добавить страницу отзывов клиентов о магазине, что позволит увеличить количество заказов</td>\n",
       "      <td id=\"T_c8ae6_row7_col1\" class=\"data row7 col1\" >4.000000</td>\n",
       "    </tr>\n",
       "    <tr>\n",
       "      <th id=\"T_c8ae6_level0_row8\" class=\"row_heading level0 row8\" >4</th>\n",
       "      <td id=\"T_c8ae6_row8_col0\" class=\"data row8 col0\" >Изменить цвет фона главной страницы, чтобы увеличить вовлеченность пользователей</td>\n",
       "      <td id=\"T_c8ae6_row8_col1\" class=\"data row8 col1\" >3.000000</td>\n",
       "    </tr>\n",
       "  </tbody>\n",
       "</table>\n"
      ],
      "text/plain": [
       "<pandas.io.formats.style.Styler at 0x1273e4a10>"
      ]
     },
     "execution_count": 9,
     "metadata": {},
     "output_type": "execute_result"
    }
   ],
   "source": [
    "sorted_rice.style"
   ]
  },
  {
   "cell_type": "markdown",
   "id": "e9a3d522",
   "metadata": {},
   "source": [
    "#### 1.3 Укажите, как изменилась приоритизация гипотез при применении RICE вместо ICE. Объясните, почему так произошло."
   ]
  },
  {
   "cell_type": "markdown",
   "id": "12ea1793",
   "metadata": {},
   "source": [
    "После подсчета RICE в списке лидирующих гипотез остаются 7 и 0. Однако добавляются гипотезы 2 и 6, а гипотеза 8  - лидер по ICE уходит аж на 5 место. \n",
    "\n",
    "**Таким образом, меняется порядок лидеров: на первое место выходит гипотеза 7, затем 2, 0 и 6.**\n",
    "\n",
    "Лидирующее место для 7 гипотезы было связано с 10 баллами по количеству затронутых пользователей, ни одна другая гипотеза не выдает такой высокой оценки. 2-я гипотеза также повысилась в рейтинге из-за 8 баллов по фактору RICE (охват пользователей). Гипотеза 8 откатилась на 5-е место в связи с низким охватом (скидка на день рождения бывает только раз в году). "
   ]
  },
  {
   "cell_type": "markdown",
   "id": "99f48e92",
   "metadata": {},
   "source": [
    "## Вывод по части 1. \n",
    "\n",
    "- Мы проанализировали ДФ с гипотезами (hypothesis.csv).  ДФ представлен 9 строками и 5 столбцами. \n",
    "- Была проведена приоритизация методом ICE, после которой были отобраны как перспективные 3 гипотезы: № 8, №0 и № 7.\n",
    "- Была дополнена приоритизация гипотез метод RICE, после которой произошла смена лидеров, однако в списке лидеров из предыдущего остались № 7 и №0. \n",
    "- Поскольку подсчет методом RICE считается более бизнес ориентированным, нами были выбраны в качестве лидеров следующие гипотезы:  7, затем 2, 0 и 6 (две последние имеют одинаковое количество баллов).\n",
    "\n",
    "Хотела бы сделать пометку: в описании ДФ было указано, что чем выше Effort, тем дороже проверка гипотезы. Мы можем сказать, что предложенные для проведения А/В теста гипотезы принимают средние и низкие значения Effort, что позволит провести тестирование без очень больших вложений.\n",
    "\n",
    "Если бы требовалось проведение А/В теста для проверки только **одной гипотезы**, я бы выбрала гипотезу 7 для сбора  e-mails, поскольку, помимо всего вышеперечисленного, из опубликованных данных я знаю о высокой эффективности e-mail рассылок. "
   ]
  },
  {
   "cell_type": "markdown",
   "id": "0852ee59",
   "metadata": {},
   "source": [
    "## Часть 2. Анализ A/B-теста.\n",
    "\n",
    "#### 2.1 Постройте график кумулятивной выручки по группам. Сделайте выводы и предположения."
   ]
  },
  {
   "cell_type": "code",
   "execution_count": 10,
   "id": "9b6861af",
   "metadata": {},
   "outputs": [],
   "source": [
    "# загружаем данные для 2 части проекта\n",
    "try:\n",
    "    orders = pd.read_csv('orders.csv') # хранит информацию по заказам\n",
    "    \n",
    "except:\n",
    "    \n",
    "    orders = pd.read_csv('https://cod...orders.csv')\n",
    "    "
   ]
  },
  {
   "cell_type": "code",
   "execution_count": 11,
   "id": "9b39d542",
   "metadata": {},
   "outputs": [
    {
     "data": {
      "text/html": [
       "<div>\n",
       "<style scoped>\n",
       "    .dataframe tbody tr th:only-of-type {\n",
       "        vertical-align: middle;\n",
       "    }\n",
       "\n",
       "    .dataframe tbody tr th {\n",
       "        vertical-align: top;\n",
       "    }\n",
       "\n",
       "    .dataframe thead th {\n",
       "        text-align: right;\n",
       "    }\n",
       "</style>\n",
       "<table border=\"1\" class=\"dataframe\">\n",
       "  <thead>\n",
       "    <tr style=\"text-align: right;\">\n",
       "      <th></th>\n",
       "      <th>transactionId</th>\n",
       "      <th>visitorId</th>\n",
       "      <th>date</th>\n",
       "      <th>revenue</th>\n",
       "      <th>group</th>\n",
       "    </tr>\n",
       "  </thead>\n",
       "  <tbody>\n",
       "    <tr>\n",
       "      <th>0</th>\n",
       "      <td>3667963787</td>\n",
       "      <td>3312258926</td>\n",
       "      <td>2019-08-15</td>\n",
       "      <td>1650</td>\n",
       "      <td>B</td>\n",
       "    </tr>\n",
       "    <tr>\n",
       "      <th>1</th>\n",
       "      <td>2804400009</td>\n",
       "      <td>3642806036</td>\n",
       "      <td>2019-08-15</td>\n",
       "      <td>730</td>\n",
       "      <td>B</td>\n",
       "    </tr>\n",
       "    <tr>\n",
       "      <th>2</th>\n",
       "      <td>2961555356</td>\n",
       "      <td>4069496402</td>\n",
       "      <td>2019-08-15</td>\n",
       "      <td>400</td>\n",
       "      <td>A</td>\n",
       "    </tr>\n",
       "    <tr>\n",
       "      <th>3</th>\n",
       "      <td>3797467345</td>\n",
       "      <td>1196621759</td>\n",
       "      <td>2019-08-15</td>\n",
       "      <td>9759</td>\n",
       "      <td>B</td>\n",
       "    </tr>\n",
       "    <tr>\n",
       "      <th>4</th>\n",
       "      <td>2282983706</td>\n",
       "      <td>2322279887</td>\n",
       "      <td>2019-08-15</td>\n",
       "      <td>2308</td>\n",
       "      <td>B</td>\n",
       "    </tr>\n",
       "  </tbody>\n",
       "</table>\n",
       "</div>"
      ],
      "text/plain": [
       "   transactionId   visitorId        date  revenue group\n",
       "0  3667963787     3312258926  2019-08-15  1650     B   \n",
       "1  2804400009     3642806036  2019-08-15  730      B   \n",
       "2  2961555356     4069496402  2019-08-15  400      A   \n",
       "3  3797467345     1196621759  2019-08-15  9759     B   \n",
       "4  2282983706     2322279887  2019-08-15  2308     B   "
      ]
     },
     "execution_count": 11,
     "metadata": {},
     "output_type": "execute_result"
    }
   ],
   "source": [
    "orders.head(5)"
   ]
  },
  {
   "cell_type": "markdown",
   "id": "71e40be5",
   "metadata": {},
   "source": [
    "Для удобства использования названий столбцов переименуем некоторые из них в более понятные."
   ]
  },
  {
   "cell_type": "code",
   "execution_count": 12,
   "id": "68672086",
   "metadata": {},
   "outputs": [],
   "source": [
    "orders= orders.rename(columns={'transactionId': 'orderId','visitorId':'userId'})"
   ]
  },
  {
   "cell_type": "code",
   "execution_count": 13,
   "id": "7b6cf108",
   "metadata": {},
   "outputs": [
    {
     "data": {
      "text/html": [
       "<div>\n",
       "<style scoped>\n",
       "    .dataframe tbody tr th:only-of-type {\n",
       "        vertical-align: middle;\n",
       "    }\n",
       "\n",
       "    .dataframe tbody tr th {\n",
       "        vertical-align: top;\n",
       "    }\n",
       "\n",
       "    .dataframe thead th {\n",
       "        text-align: right;\n",
       "    }\n",
       "</style>\n",
       "<table border=\"1\" class=\"dataframe\">\n",
       "  <thead>\n",
       "    <tr style=\"text-align: right;\">\n",
       "      <th></th>\n",
       "      <th>orderId</th>\n",
       "      <th>userId</th>\n",
       "      <th>date</th>\n",
       "      <th>revenue</th>\n",
       "      <th>group</th>\n",
       "    </tr>\n",
       "  </thead>\n",
       "  <tbody>\n",
       "    <tr>\n",
       "      <th>0</th>\n",
       "      <td>3667963787</td>\n",
       "      <td>3312258926</td>\n",
       "      <td>2019-08-15</td>\n",
       "      <td>1650</td>\n",
       "      <td>B</td>\n",
       "    </tr>\n",
       "    <tr>\n",
       "      <th>1</th>\n",
       "      <td>2804400009</td>\n",
       "      <td>3642806036</td>\n",
       "      <td>2019-08-15</td>\n",
       "      <td>730</td>\n",
       "      <td>B</td>\n",
       "    </tr>\n",
       "    <tr>\n",
       "      <th>2</th>\n",
       "      <td>2961555356</td>\n",
       "      <td>4069496402</td>\n",
       "      <td>2019-08-15</td>\n",
       "      <td>400</td>\n",
       "      <td>A</td>\n",
       "    </tr>\n",
       "    <tr>\n",
       "      <th>3</th>\n",
       "      <td>3797467345</td>\n",
       "      <td>1196621759</td>\n",
       "      <td>2019-08-15</td>\n",
       "      <td>9759</td>\n",
       "      <td>B</td>\n",
       "    </tr>\n",
       "    <tr>\n",
       "      <th>4</th>\n",
       "      <td>2282983706</td>\n",
       "      <td>2322279887</td>\n",
       "      <td>2019-08-15</td>\n",
       "      <td>2308</td>\n",
       "      <td>B</td>\n",
       "    </tr>\n",
       "  </tbody>\n",
       "</table>\n",
       "</div>"
      ],
      "text/plain": [
       "      orderId      userId        date  revenue group\n",
       "0  3667963787  3312258926  2019-08-15  1650     B   \n",
       "1  2804400009  3642806036  2019-08-15  730      B   \n",
       "2  2961555356  4069496402  2019-08-15  400      A   \n",
       "3  3797467345  1196621759  2019-08-15  9759     B   \n",
       "4  2282983706  2322279887  2019-08-15  2308     B   "
      ]
     },
     "execution_count": 13,
     "metadata": {},
     "output_type": "execute_result"
    }
   ],
   "source": [
    "orders.head(5)"
   ]
  },
  {
   "cell_type": "code",
   "execution_count": 14,
   "id": "46f6d976",
   "metadata": {
    "scrolled": true
   },
   "outputs": [
    {
     "data": {
      "text/plain": [
       "0"
      ]
     },
     "execution_count": 14,
     "metadata": {},
     "output_type": "execute_result"
    }
   ],
   "source": [
    "orders.duplicated().sum()"
   ]
  },
  {
   "cell_type": "code",
   "execution_count": 15,
   "id": "01f13313",
   "metadata": {},
   "outputs": [
    {
     "data": {
      "text/plain": [
       "orderId    0\n",
       "userId     0\n",
       "date       0\n",
       "revenue    0\n",
       "group      0\n",
       "dtype: int64"
      ]
     },
     "execution_count": 15,
     "metadata": {},
     "output_type": "execute_result"
    }
   ],
   "source": [
    "orders.isna().sum()"
   ]
  },
  {
   "cell_type": "markdown",
   "id": "52ae05d7",
   "metadata": {},
   "source": [
    "Проверим есть ли в таблице orders пользователи, оказавшиеся одновременно в двух группах."
   ]
  },
  {
   "cell_type": "code",
   "execution_count": 16,
   "id": "76858c4a",
   "metadata": {},
   "outputs": [],
   "source": [
    "#получим множества пользователей, которые входят в группы А и В\n",
    "set_groupA = set(orders[orders['group']==\"A\"]['userId'])\n",
    "set_groupB = set(orders[orders['group']==\"B\"]['userId'])"
   ]
  },
  {
   "cell_type": "code",
   "execution_count": 17,
   "id": "80407834",
   "metadata": {},
   "outputs": [
    {
     "data": {
      "image/png": "[encoded data removed]",
      "text/plain": [
       "<Figure size 800x800 with 1 Axes>"
      ]
     },
     "metadata": {},
     "output_type": "display_data"
    }
   ],
   "source": [
    "# используем диаграмму Венна, которая позволяет визуализировать общее в двух выборках\n",
    "dataset_dict = {'GroupA': set_groupA,'GroupB':set_groupB}\n",
    "venn(dataset_dict, cmap=[\"#cc2936\", \"#6b818c\"], figsize=(8,8), fontsize=20, legend_loc='upper center')\n",
    "plt.rcParams[\"font.weight\"] = \"bold\"\n",
    "plt.show()"
   ]
  },
  {
   "cell_type": "markdown",
   "id": "c7658ddb",
   "metadata": {},
   "source": [
    "Мы видим, что таких пользователей 58 человек. Найдем этих пользователей и выделим их в отдельный датасет."
   ]
  },
  {
   "cell_type": "code",
   "execution_count": 18,
   "id": "61ad72bb",
   "metadata": {},
   "outputs": [],
   "source": [
    "common_set = set_groupA&set_groupB"
   ]
  },
  {
   "cell_type": "code",
   "execution_count": 19,
   "id": "d9b2298b",
   "metadata": {},
   "outputs": [
    {
     "data": {
      "text/plain": [
       "58"
      ]
     },
     "execution_count": 19,
     "metadata": {},
     "output_type": "execute_result"
    }
   ],
   "source": [
    "len(common_set)# проверим, совпадает ли их число с графиком"
   ]
  },
  {
   "cell_type": "code",
   "execution_count": 20,
   "id": "0081c12c",
   "metadata": {},
   "outputs": [],
   "source": [
    "# удалим  из ДФ этих пользователей и пересохраним файл orders.\n",
    "orders = orders[np.logical_not(orders['userId'].isin(common_set))]"
   ]
  },
  {
   "cell_type": "code",
   "execution_count": 21,
   "id": "ab8efd7a",
   "metadata": {},
   "outputs": [
    {
     "name": "stdout",
     "output_type": "stream",
     "text": [
      "<class 'pandas.core.frame.DataFrame'>\n",
      "Int64Index: 1016 entries, 0 to 1196\n",
      "Data columns (total 5 columns):\n",
      " #   Column   Non-Null Count  Dtype \n",
      "---  ------   --------------  ----- \n",
      " 0   orderId  1016 non-null   int64 \n",
      " 1   userId   1016 non-null   int64 \n",
      " 2   date     1016 non-null   object\n",
      " 3   revenue  1016 non-null   int64 \n",
      " 4   group    1016 non-null   object\n",
      "dtypes: int64(3), object(2)\n",
      "memory usage: 47.6+ KB\n"
     ]
    }
   ],
   "source": [
    "orders.info()"
   ]
  },
  {
   "cell_type": "markdown",
   "id": "01c0a312",
   "metadata": {},
   "source": [
    "Обновленная таблица orders содержит 1016 строк и 5 столбцов. Проверили таблицу orders на наличие дубликатов, пропусков и тип данных. Данные подготовлены к дальнейшему анализу. "
   ]
  },
  {
   "cell_type": "code",
   "execution_count": 22,
   "id": "0089dee1",
   "metadata": {},
   "outputs": [],
   "source": [
    "try:\n",
    "    visitors = pd.read_csv('visitors.csv') # хранит информацию про количество пользователей\n",
    "except:\n",
    "    visitors = pd.read_csv('https://cod...visitors.csv')\n"
   ]
  },
  {
   "cell_type": "code",
   "execution_count": 23,
   "id": "5a21af79",
   "metadata": {},
   "outputs": [
    {
     "data": {
      "text/html": [
       "<div>\n",
       "<style scoped>\n",
       "    .dataframe tbody tr th:only-of-type {\n",
       "        vertical-align: middle;\n",
       "    }\n",
       "\n",
       "    .dataframe tbody tr th {\n",
       "        vertical-align: top;\n",
       "    }\n",
       "\n",
       "    .dataframe thead th {\n",
       "        text-align: right;\n",
       "    }\n",
       "</style>\n",
       "<table border=\"1\" class=\"dataframe\">\n",
       "  <thead>\n",
       "    <tr style=\"text-align: right;\">\n",
       "      <th></th>\n",
       "      <th>date</th>\n",
       "      <th>group</th>\n",
       "      <th>visitors</th>\n",
       "    </tr>\n",
       "  </thead>\n",
       "  <tbody>\n",
       "    <tr>\n",
       "      <th>0</th>\n",
       "      <td>2019-08-01</td>\n",
       "      <td>A</td>\n",
       "      <td>719</td>\n",
       "    </tr>\n",
       "    <tr>\n",
       "      <th>1</th>\n",
       "      <td>2019-08-02</td>\n",
       "      <td>A</td>\n",
       "      <td>619</td>\n",
       "    </tr>\n",
       "    <tr>\n",
       "      <th>2</th>\n",
       "      <td>2019-08-03</td>\n",
       "      <td>A</td>\n",
       "      <td>507</td>\n",
       "    </tr>\n",
       "    <tr>\n",
       "      <th>3</th>\n",
       "      <td>2019-08-04</td>\n",
       "      <td>A</td>\n",
       "      <td>717</td>\n",
       "    </tr>\n",
       "    <tr>\n",
       "      <th>4</th>\n",
       "      <td>2019-08-05</td>\n",
       "      <td>A</td>\n",
       "      <td>756</td>\n",
       "    </tr>\n",
       "  </tbody>\n",
       "</table>\n",
       "</div>"
      ],
      "text/plain": [
       "         date group  visitors\n",
       "0  2019-08-01  A     719     \n",
       "1  2019-08-02  A     619     \n",
       "2  2019-08-03  A     507     \n",
       "3  2019-08-04  A     717     \n",
       "4  2019-08-05  A     756     "
      ]
     },
     "execution_count": 23,
     "metadata": {},
     "output_type": "execute_result"
    }
   ],
   "source": [
    "visitors.head(5)"
   ]
  },
  {
   "cell_type": "code",
   "execution_count": 24,
   "id": "cda30389",
   "metadata": {
    "scrolled": true
   },
   "outputs": [
    {
     "data": {
      "text/plain": [
       "0"
      ]
     },
     "execution_count": 24,
     "metadata": {},
     "output_type": "execute_result"
    }
   ],
   "source": [
    "visitors.duplicated().sum()"
   ]
  },
  {
   "cell_type": "code",
   "execution_count": 25,
   "id": "fe4b3b90",
   "metadata": {
    "scrolled": true
   },
   "outputs": [
    {
     "data": {
      "text/plain": [
       "date        0\n",
       "group       0\n",
       "visitors    0\n",
       "dtype: int64"
      ]
     },
     "execution_count": 25,
     "metadata": {},
     "output_type": "execute_result"
    }
   ],
   "source": [
    "visitors.isna().sum()"
   ]
  },
  {
   "cell_type": "code",
   "execution_count": 26,
   "id": "f2fd24ab",
   "metadata": {
    "scrolled": true
   },
   "outputs": [
    {
     "name": "stdout",
     "output_type": "stream",
     "text": [
      "<class 'pandas.core.frame.DataFrame'>\n",
      "RangeIndex: 62 entries, 0 to 61\n",
      "Data columns (total 3 columns):\n",
      " #   Column    Non-Null Count  Dtype \n",
      "---  ------    --------------  ----- \n",
      " 0   date      62 non-null     object\n",
      " 1   group     62 non-null     object\n",
      " 2   visitors  62 non-null     int64 \n",
      "dtypes: int64(1), object(2)\n",
      "memory usage: 1.6+ KB\n"
     ]
    }
   ],
   "source": [
    "visitors.info()"
   ]
  },
  {
   "cell_type": "markdown",
   "id": "be2395ad",
   "metadata": {},
   "source": [
    "Таблица visitors содержит 62 строки и 3 столбца. Проверили таблицу на наличие дубликатов, пропусков и тип данных. Данные подготовлены к дальнейшему анализу. "
   ]
  },
  {
   "cell_type": "markdown",
   "id": "ec570c95",
   "metadata": {},
   "source": [
    "Для применения и построения графиков кумулятивных данных, создадим новый ДФ с кумулятивными данными cumulativeData, у которого будут столбцы: \n",
    "- date — дата;\n",
    "- group — группа A/B-теста (A или B);\n",
    "- orders — кумулятивное количество заказов на указанную дату в указанной группе;\n",
    "- buyers — кумулятивное количество пользователей, совершивших хотя бы один заказ, на указанную дату в указанной группе;\n",
    "- revenue — кумулятивная выручка на указанную дату в указанной группе (средний чек);\n",
    "- visitors — кумулятивное количество посетителей интернет-магазина на указанную дату в определённой группе.\n"
   ]
  },
  {
   "cell_type": "code",
   "execution_count": 27,
   "id": "e76fec5c",
   "metadata": {},
   "outputs": [],
   "source": [
    "# создаем массив уникальных пар значений дат и групп теста\n",
    "datesGroups = orders[['date','group']].drop_duplicates()\n",
    "\n",
    "ordersAggregated = datesGroups.apply(lambda x: orders[np.logical_and(orders['date'] <= x['date'], orders['group'] == x['group'])]\\\n",
    ".agg({'date' : 'max', 'group' : 'max', 'orderId' : 'nunique', 'userId' : 'nunique', 'revenue' : 'sum'}), axis=1).sort_values(by=['date','group'])\n",
    "\n",
    "visitorsAggregated = datesGroups.apply(lambda x: visitors[np.logical_and(visitors['date'] <= x['date'], visitors['group'] == x['group'])].agg({'date' : 'max', 'group' : 'max', 'visitors' : 'sum'}), axis=1).sort_values(by=['date','group'])\n",
    "\n",
    "ordersAggregated = datesGroups.apply(lambda x: orders[np.logical_and(orders['date'] <= x['date'], orders['group'] == x['group'])].agg({'date' : 'max', 'group' : 'max', 'orderId' : 'nunique', 'userId' : 'nunique', 'revenue' : 'sum'}), axis=1).sort_values(by=['date','group'])\n",
    "\n",
    "# получаем агрегированные кумулятивные по дням данные о посетителях интернет-магазина \n",
    "visitorsAggregated = datesGroups.apply(lambda x: visitors[np.logical_and(visitors['date'] <= x['date'], visitors['group'] == x['group'])].agg({'date' : 'max', 'group' : 'max', 'visitors' : 'sum'}), axis=1).sort_values(by=['date','group'])\n",
    "\n",
    "# объединяем кумулятивные данные в одной таблице и присваиваем ее столбцам понятные названия\n",
    "cumulativeData = ordersAggregated.merge(visitorsAggregated, left_on=['date', 'group'], right_on=['date', 'group'])\n",
    "cumulativeData.columns = ['date', 'group', 'orders', 'buyers', 'revenue', 'visitors']\n"
   ]
  },
  {
   "cell_type": "code",
   "execution_count": 28,
   "id": "2f6a05cb",
   "metadata": {
    "scrolled": true
   },
   "outputs": [
    {
     "data": {
      "text/html": [
       "<div>\n",
       "<style scoped>\n",
       "    .dataframe tbody tr th:only-of-type {\n",
       "        vertical-align: middle;\n",
       "    }\n",
       "\n",
       "    .dataframe tbody tr th {\n",
       "        vertical-align: top;\n",
       "    }\n",
       "\n",
       "    .dataframe thead th {\n",
       "        text-align: right;\n",
       "    }\n",
       "</style>\n",
       "<table border=\"1\" class=\"dataframe\">\n",
       "  <thead>\n",
       "    <tr style=\"text-align: right;\">\n",
       "      <th></th>\n",
       "      <th>date</th>\n",
       "      <th>group</th>\n",
       "      <th>orders</th>\n",
       "      <th>buyers</th>\n",
       "      <th>revenue</th>\n",
       "      <th>visitors</th>\n",
       "    </tr>\n",
       "  </thead>\n",
       "  <tbody>\n",
       "    <tr>\n",
       "      <th>0</th>\n",
       "      <td>2019-08-01</td>\n",
       "      <td>A</td>\n",
       "      <td>23</td>\n",
       "      <td>19</td>\n",
       "      <td>142779</td>\n",
       "      <td>719</td>\n",
       "    </tr>\n",
       "    <tr>\n",
       "      <th>1</th>\n",
       "      <td>2019-08-01</td>\n",
       "      <td>B</td>\n",
       "      <td>17</td>\n",
       "      <td>17</td>\n",
       "      <td>59758</td>\n",
       "      <td>713</td>\n",
       "    </tr>\n",
       "    <tr>\n",
       "      <th>2</th>\n",
       "      <td>2019-08-02</td>\n",
       "      <td>A</td>\n",
       "      <td>42</td>\n",
       "      <td>36</td>\n",
       "      <td>234381</td>\n",
       "      <td>1338</td>\n",
       "    </tr>\n",
       "    <tr>\n",
       "      <th>3</th>\n",
       "      <td>2019-08-02</td>\n",
       "      <td>B</td>\n",
       "      <td>40</td>\n",
       "      <td>39</td>\n",
       "      <td>221801</td>\n",
       "      <td>1294</td>\n",
       "    </tr>\n",
       "    <tr>\n",
       "      <th>4</th>\n",
       "      <td>2019-08-03</td>\n",
       "      <td>A</td>\n",
       "      <td>66</td>\n",
       "      <td>60</td>\n",
       "      <td>346854</td>\n",
       "      <td>1845</td>\n",
       "    </tr>\n",
       "  </tbody>\n",
       "</table>\n",
       "</div>"
      ],
      "text/plain": [
       "         date group  orders  buyers  revenue  visitors\n",
       "0  2019-08-01  A     23      19      142779   719     \n",
       "1  2019-08-01  B     17      17      59758    713     \n",
       "2  2019-08-02  A     42      36      234381   1338    \n",
       "3  2019-08-02  B     40      39      221801   1294    \n",
       "4  2019-08-03  A     66      60      346854   1845    "
      ]
     },
     "execution_count": 28,
     "metadata": {},
     "output_type": "execute_result"
    }
   ],
   "source": [
    "# выведем сводную таблицу кумулятивных данных\n",
    "cumulativeData.head(5)"
   ]
  },
  {
   "cell_type": "code",
   "execution_count": 29,
   "id": "82fe0d88",
   "metadata": {},
   "outputs": [
    {
     "data": {
      "image/png": "[encoded data removed]",
      "text/plain": [
       "<Figure size 640x480 with 1 Axes>"
      ]
     },
     "metadata": {},
     "output_type": "display_data"
    }
   ],
   "source": [
    "# датафрейм с кумулятивным количеством заказов и кумулятивной выручкой по дням в группе А\n",
    "cumulativeRevenueA = cumulativeData[cumulativeData['group']=='A'][['date','revenue', 'orders']]\n",
    "\n",
    "# датафрейм с кумулятивным количеством заказов и кумулятивной выручкой по дням в группе B\n",
    "cumulativeRevenueB = cumulativeData[cumulativeData['group']=='B'][['date','revenue', 'orders']]\n",
    "\n",
    "# Строим график выручки группы А\n",
    "plt.plot(cumulativeRevenueA['date'], cumulativeRevenueA['revenue'], label='A')\n",
    "\n",
    "# Строим график выручки группы B\n",
    "plt.plot(cumulativeRevenueB['date'], cumulativeRevenueB['revenue'], label='B')\n",
    "\n",
    "# Добавляем заголовок\n",
    "plt.title('График выручки групп A и B')\n",
    "\n",
    "# Подписываем оси\n",
    "plt.xlabel('Дата')\n",
    "plt.ylabel('Выручка')\n",
    "\n",
    "# Поворачиваем даты на 90 градусов\n",
    "plt.xticks(rotation=90)\n",
    "\n",
    "plt.legend();  \n"
   ]
  },
  {
   "cell_type": "markdown",
   "id": "3ac3ac58",
   "metadata": {},
   "source": [
    "Группы А и В до середины теста (13 августа) шли примерно параллельно, затем группа В стала показывать бОльшую выручку, а 18 августа произошел сильный скачок вверх (вероятно, аномальная покупка), после которого группа В продолжила наращивать преимущество и сильно ушла в отрыв.  \n",
    "\n",
    "Необходимо будет в дальнейшем проверить аномалии"
   ]
  },
  {
   "cell_type": "markdown",
   "id": "3a1487d4",
   "metadata": {},
   "source": [
    "#### 2.2 Постройте график кумулятивного среднего чека по группам. Сделайте выводы и предположения."
   ]
  },
  {
   "cell_type": "code",
   "execution_count": 30,
   "id": "ea63b331",
   "metadata": {},
   "outputs": [
    {
     "data": {
      "image/png": "[encoded data removed]",
      "text/plain": [
       "<Figure size 640x480 with 1 Axes>"
      ]
     },
     "metadata": {},
     "output_type": "display_data"
    }
   ],
   "source": [
    "# подсчитаем для каждой группы кумулятивный чек \n",
    "cumulativeRevenueA = cumulativeData[cumulativeData['group'] == 'A'][\n",
    "    ['date', 'revenue', 'orders']\n",
    "]\n",
    "cumulativeRevenueB = cumulativeData[cumulativeData['group'] == 'B'][\n",
    "    ['date', 'revenue', 'orders']\n",
    "]\n",
    "# Вычислим средний чек для каждой группы делением выручки на колчество заказов\n",
    "plt.plot(cumulativeRevenueA['date'], cumulativeRevenueA['revenue']/cumulativeRevenueA['orders'], label='A')\n",
    "plt.plot(cumulativeRevenueB['date'], cumulativeRevenueB['revenue']/cumulativeRevenueB['orders'], label='B')\n",
    "\n",
    "plt.title('График кумулятивного среднего чека групп A и B')\n",
    "\n",
    "# Подписываем оси\n",
    "plt.xlabel('Дата')\n",
    "plt.ylabel('Выручка')\n",
    "\n",
    "# Поворачиваем даты на 90 градусов\n",
    "plt.xticks(rotation=90)\n",
    "\n",
    "plt.legend(); "
   ]
  },
  {
   "cell_type": "markdown",
   "id": "c09623f6",
   "metadata": {},
   "source": [
    "Кумулятивные значения среднего чека для групп на графике все равно показывают сильные отклонения (18 и 19 августа в группе В) можно считать аномалиями. Необходимо продолжить анализировать данную метрику."
   ]
  },
  {
   "cell_type": "markdown",
   "id": "5c279e0d",
   "metadata": {},
   "source": [
    "#### 2.3 Постройте график относительного изменения кумулятивного среднего чека группы B к группе A. Сделайте выводы и предположения."
   ]
  },
  {
   "cell_type": "code",
   "execution_count": 31,
   "id": "b9b4d349",
   "metadata": {},
   "outputs": [
    {
     "data": {
      "image/png": "[encoded data removed]",
      "text/plain": [
       "<Figure size 640x480 with 1 Axes>"
      ]
     },
     "metadata": {},
     "output_type": "display_data"
    }
   ],
   "source": [
    "# собираем данные в одном датафрейме\n",
    "mergedCumulativeRevenue = cumulativeRevenueA.merge(cumulativeRevenueB, left_on='date', right_on='date', how='left', suffixes=['A', 'B'])\n",
    "\n",
    "# cтроим отношение средних чеков\n",
    "plt.plot(mergedCumulativeRevenue['date'], (mergedCumulativeRevenue['revenueB']/mergedCumulativeRevenue['ordersB'])/(mergedCumulativeRevenue['revenueA']/mergedCumulativeRevenue['ordersA'])-1)\n",
    "\n",
    "# добавляем ось X - относительно которой мы смотрим варьирование среднего чека.\n",
    "plt.axhline(y=0, color='black', linestyle='--')\n",
    "\n",
    "plt.title('График относительного изменения кумулятивного среднего чека группы B к группе A')\n",
    "\n",
    "# Подписываем оси\n",
    "plt.xlabel('Дата')\n",
    "\n",
    "# Поворачиваем даты на 90 градусов\n",
    "plt.xticks(rotation=90); "
   ]
  },
  {
   "cell_type": "markdown",
   "id": "61dd6b03",
   "metadata": {},
   "source": [
    "По графику мы видим, что результаты резко менялись 06-07 августа и 18-19 августа. Скорее всего именно в эти даты были сделаны аномальные покупки."
   ]
  },
  {
   "cell_type": "markdown",
   "id": "31e96707",
   "metadata": {},
   "source": [
    "#### 2.4 Постройте график кумулятивного среднего количества заказов на посетителя по группам. Сделайте выводы и предположения."
   ]
  },
  {
   "cell_type": "code",
   "execution_count": 32,
   "id": "ea64abb6",
   "metadata": {},
   "outputs": [
    {
     "data": {
      "image/png": "[encoded data removed]",
      "text/plain": [
       "<Figure size 640x480 with 1 Axes>"
      ]
     },
     "metadata": {},
     "output_type": "display_data"
    }
   ],
   "source": [
    "# считаем среднее количество заказов на посетителя\n",
    "cumulativeData['conversion'] = cumulativeData['orders']/cumulativeData['visitors']\n",
    "\n",
    "# отделяем данные по группе A\n",
    "cumulativeDataA = cumulativeData[cumulativeData['group']=='A']\n",
    "\n",
    "# отделяем данные по группе B\n",
    "cumulativeDataB = cumulativeData[cumulativeData['group']=='B']\n",
    "\n",
    "# строим графики\n",
    "plt.plot(cumulativeDataA['date'], cumulativeDataA['conversion'], label='A')\n",
    "plt.plot(cumulativeDataB['date'], cumulativeDataB['conversion'], label='B')\n",
    "\n",
    "plt.title('График кумулятивного среднего количества заказов на посетителя по группам')\n",
    "\n",
    "plt.xlabel('Дата')\n",
    "plt.ylabel('Количество')\n",
    "\n",
    "plt.xticks(rotation=90)\n",
    "\n",
    "plt.legend();\n"
   ]
  },
  {
   "cell_type": "markdown",
   "id": "2e1acc8d",
   "metadata": {},
   "source": [
    "В начале теста колебания в обеих группах были достаточно резкими, однако примерно через неделю (6 августа) группа В сравнялась по количеству заказов с группой А, а затем продолжила лидировать по этому показателю и к концу месяца зафиксировалась примерно на уровне 0,029, что было существенно выше группы А, которая зафиксировалась на уровне 0,025."
   ]
  },
  {
   "cell_type": "markdown",
   "id": "e3782460",
   "metadata": {},
   "source": [
    "#### 2.5 Постройте график относительного изменения кумулятивного среднего количества заказов на посетителя группы B к группе A. Сделайте выводы и предположения."
   ]
  },
  {
   "cell_type": "code",
   "execution_count": 33,
   "id": "e148cba9",
   "metadata": {},
   "outputs": [
    {
     "data": {
      "image/png": "[encoded data removed]",
      "text/plain": [
       "<Figure size 640x480 with 1 Axes>"
      ]
     },
     "metadata": {},
     "output_type": "display_data"
    }
   ],
   "source": [
    "# соединим данные из двух таблиц \n",
    "mergedCumulativeConversions = cumulativeDataA[['date','conversion']].merge(cumulativeDataB[['date','conversion']], left_on='date', right_on='date', how='left', suffixes=['A', 'B'])\n",
    "\n",
    "plt.plot(mergedCumulativeConversions['date'], mergedCumulativeConversions['conversionB']/mergedCumulativeConversions['conversionA']-1, label=\"Относительный прирост кумулятивного среднего количества заказов на посетителя группы B относительно группы A\")\n",
    "\n",
    "plt.title('График относительного изменения кумулятивного среднего количества заказов на посетителя группы B к группе A')\n",
    "\n",
    "plt.xticks(rotation=90)\n",
    "\n",
    "plt.axhline(y=0, color='black', linestyle='--')\n",
    "plt.axhline(y=0.2, color='grey', linestyle='--');"
   ]
  },
  {
   "cell_type": "markdown",
   "id": "a3f5c18d",
   "metadata": {},
   "source": [
    "По графику можно сделать следующий вывод: после некоторого провала на старте, группа В с 3 августа начала постоянноый рост по количеству заказов. Через 2 недели после начала теста группа В достигла макимальных отличий в 20% от группы А, однако с 17 августа этот показатель начал снижаться и зафиксировался к концу месяца примерно на уровне 13-15% превышая группу А."
   ]
  },
  {
   "cell_type": "markdown",
   "id": "884a0435",
   "metadata": {},
   "source": [
    "#### 2.6 Постройте точечный график количества заказов по пользователям.  Сделайте выводы и предположения."
   ]
  },
  {
   "cell_type": "code",
   "execution_count": 34,
   "id": "c861b9b7",
   "metadata": {},
   "outputs": [
    {
     "data": {
      "image/png": "[encoded data removed]",
      "text/plain": [
       "<Figure size 640x480 with 1 Axes>"
      ]
     },
     "metadata": {},
     "output_type": "display_data"
    }
   ],
   "source": [
    "ordersByUsers = (\n",
    "    orders.groupby('userId', as_index=False)\n",
    "    .agg({'orderId': 'nunique'})\n",
    ")\n",
    "ordersByUsers.columns = ['userId', 'orders']\n",
    "\n",
    "# серия из чисел от 0 до количества наблюдений в ordersByUsers\n",
    "x_values = pd.Series(range(0, len(ordersByUsers)))\n",
    "\n",
    "plt.scatter(x_values, ordersByUsers['orders'])\n",
    "\n",
    "plt.title('График количества заказов по пользователям')\n",
    "\n",
    "plt.xlabel('Пользователи')\n",
    "plt.ylabel('Количество заказов');"
   ]
  },
  {
   "cell_type": "markdown",
   "id": "c5355835",
   "metadata": {},
   "source": [
    "По графику мы видим, что большинство пользователей сделало не более 2-х заказов. Есть небольшое количество пользователей, сделавших 3 заказа. "
   ]
  },
  {
   "cell_type": "markdown",
   "id": "aaaaf78a",
   "metadata": {},
   "source": [
    "#### 2.7 Посчитайте 95-й и 99-й перцентили количества заказов на пользователя. Выберите границу для определения аномальных пользователей."
   ]
  },
  {
   "cell_type": "code",
   "execution_count": 35,
   "id": "b629f49b",
   "metadata": {},
   "outputs": [
    {
     "data": {
      "text/plain": [
       "array([1., 2.])"
      ]
     },
     "execution_count": 35,
     "metadata": {},
     "output_type": "execute_result"
    }
   ],
   "source": [
    "# определим 2 заказа это много или мало, подсчитаем 95 и 99 перцентили количества заказов на 1 пользователя.\n",
    "\n",
    "np.percentile(ordersByUsers['orders'], [95, 99])\n",
    "\n"
   ]
  },
  {
   "cell_type": "markdown",
   "id": "66868e01",
   "metadata": {},
   "source": [
    "Таким образом, мы можем сказать, что не более 5% пользователей делало больше 1 заказа и не более 1% делало более 2 заказов.\n",
    "\n",
    "**Тем не менее, определим 2 заказа в качестве границы для фильтрации аномальных пользователей.**"
   ]
  },
  {
   "cell_type": "markdown",
   "id": "cf787c20",
   "metadata": {},
   "source": [
    "#### 2.8 Постройте точечный график стоимостей заказов. Сделайте выводы и предположения."
   ]
  },
  {
   "cell_type": "code",
   "execution_count": 36,
   "id": "8cc5c1e5",
   "metadata": {
    "scrolled": true
   },
   "outputs": [
    {
     "data": {
      "image/png": "[encoded data removed]",
      "text/plain": [
       "<Figure size 640x480 with 1 Axes>"
      ]
     },
     "metadata": {},
     "output_type": "display_data"
    }
   ],
   "source": [
    "x_values = pd.Series(range(0, len(orders['revenue'])))\n",
    "plt.scatter(x_values, orders['revenue']) \n",
    "plt.title('График стоимостей заказов')\n",
    "\n",
    "plt.xlabel('Пользователи')\n",
    "plt.ylabel('Стоимость заказов');"
   ]
  },
  {
   "cell_type": "markdown",
   "id": "1c473669",
   "metadata": {},
   "source": [
    "Уберем аномальные заказы для наглядности"
   ]
  },
  {
   "cell_type": "code",
   "execution_count": 37,
   "id": "f4083e3d",
   "metadata": {},
   "outputs": [
    {
     "data": {
      "image/png": "[encoded data removed]",
      "text/plain": [
       "<Figure size 640x480 with 1 Axes>"
      ]
     },
     "metadata": {},
     "output_type": "display_data"
    }
   ],
   "source": [
    "x_values = pd.Series(range(0, len(orders['revenue'])))\n",
    "plt.scatter(x_values, orders['revenue']) \n",
    "plt.title('График стоимостей заказов')\n",
    "\n",
    "plt.ylim([0, 100000])\n",
    "\n",
    "plt.xlabel('Пользователи')\n",
    "plt.ylabel('Стоимость заказов');"
   ]
  },
  {
   "cell_type": "markdown",
   "id": "3e664a0a",
   "metadata": {},
   "source": [
    "По графику мы видим, что в основном, стоимость заказов в пределах от 0 до 100 000 рублей. Есть выбросы: 200 000 рублей и 1 300 000 рублей. Скорее всего это аномальные заказы. "
   ]
  },
  {
   "cell_type": "markdown",
   "id": "ba26c106",
   "metadata": {},
   "source": [
    "#### 2.9 Посчитайте 95-й и 99-й перцентили стоимости заказов. Выберите границу для определения аномальных заказов."
   ]
  },
  {
   "cell_type": "code",
   "execution_count": 38,
   "id": "59989f6b",
   "metadata": {},
   "outputs": [
    {
     "data": {
      "text/plain": [
       "array([26785., 53904.])"
      ]
     },
     "execution_count": 38,
     "metadata": {},
     "output_type": "execute_result"
    }
   ],
   "source": [
    "np.percentile(orders['revenue'], [95, 99])"
   ]
  },
  {
   "cell_type": "markdown",
   "id": "c1e77ca4",
   "metadata": {},
   "source": [
    "Таким образом, мы подсчитали, что не более 5% пользователей делают заказ дороже 26 тысяч руублей и не более 1% - более 53 тысяч рублей. \n",
    "\n",
    "Определим границу для определения аномальных заказов на уровне 30 тысяч рублей."
   ]
  },
  {
   "cell_type": "markdown",
   "id": "302f13cd",
   "metadata": {},
   "source": [
    "#### 2.10 Посчитайте статистическую значимость различий в среднем количестве заказов на посетителя между группами по «сырым» данным. Сделайте выводы и предположения."
   ]
  },
  {
   "cell_type": "markdown",
   "id": "7c9f358d",
   "metadata": {},
   "source": [
    "Перед проведением статистического анализа необходимо выдвинуть нулевую и альтернативную гипотезы. \n",
    "\n",
    "Сформулируем гипотезы для нашего проекта. \n",
    "\n",
    "- Нулевая гипотеза: различий в среднем количестве заказов между группами нет. \n",
    "- Альтернативная: различия в среднем между группами есть.\n",
    "\n",
    "Подсчитаем p-value и сравним со значение 0.05, чтобы подтвердить Н0 (если p-value >= 0.05) или опровергнуть и принять альтернативную (если p-value < 0.05).\n"
   ]
  },
  {
   "cell_type": "markdown",
   "id": "e91e0425",
   "metadata": {},
   "source": [
    "Для оценки статитстической значимости будем использовать U-метод Манна Уитни "
   ]
  },
  {
   "cell_type": "code",
   "execution_count": 39,
   "id": "5732e200",
   "metadata": {},
   "outputs": [
    {
     "name": "stdout",
     "output_type": "stream",
     "text": [
      "p-value: 0.011\n",
      "Относительный прирост: 0.160\n"
     ]
    }
   ],
   "source": [
    "visitorsADaily = visitors[visitors['group'] == 'A'][['date', 'visitors']]\n",
    "visitorsADaily.columns = ['date', 'visitorsPerDateA']\n",
    "\n",
    "visitorsACummulative = visitorsADaily.apply(\n",
    "    lambda x: visitorsADaily[visitorsADaily['date'] <= x['date']].agg(\n",
    "        {'date': 'max', 'visitorsPerDateA': 'sum'}\n",
    "    ),\n",
    "    axis=1,\n",
    ")\n",
    "visitorsACummulative.columns = ['date', 'visitorsCummulativeA']\n",
    "\n",
    "visitorsBDaily = visitors[visitors['group'] == 'B'][['date', 'visitors']]\n",
    "visitorsBDaily.columns = ['date', 'visitorsPerDateB']\n",
    "\n",
    "visitorsBCummulative = visitorsBDaily.apply(\n",
    "    lambda x: visitorsBDaily[visitorsBDaily['date'] <= x['date']].agg(\n",
    "        {'date': 'max', 'visitorsPerDateB': 'sum'}\n",
    "    ),\n",
    "    axis=1,\n",
    ")\n",
    "visitorsBCummulative.columns = ['date', 'visitorsCummulativeB']\n",
    "\n",
    "ordersADaily = (\n",
    "    orders[orders['group'] == 'A'][['date', 'orderId', 'userId', 'revenue']]\n",
    "    .groupby('date', as_index=False)\n",
    "    .agg({'orderId': pd.Series.nunique, 'revenue': 'sum'})\n",
    ")\n",
    "ordersADaily.columns = ['date', 'ordersPerDateA', 'revenuePerDateA']\n",
    "\n",
    "ordersACummulative = ordersADaily.apply(\n",
    "    lambda x: ordersADaily[ordersADaily['date'] <= x['date']].agg(\n",
    "        {'date': 'max', 'ordersPerDateA': 'sum', 'revenuePerDateA': 'sum'}\n",
    "    ),\n",
    "    axis=1,\n",
    ").sort_values(by=['date'])\n",
    "ordersACummulative.columns = [\n",
    "    'date',\n",
    "    'ordersCummulativeA',\n",
    "    'revenueCummulativeA',\n",
    "]\n",
    "\n",
    "ordersBDaily = (\n",
    "    orders[orders['group'] == 'B'][['date', 'orderId', 'userId', 'revenue']]\n",
    "    .groupby('date', as_index=False)\n",
    "    .agg({'orderId': pd.Series.nunique, 'revenue': 'sum'})\n",
    ")\n",
    "ordersBDaily.columns = ['date', 'ordersPerDateB', 'revenuePerDateB']\n",
    "\n",
    "ordersBCummulative = ordersBDaily.apply(\n",
    "    lambda x: ordersBDaily[ordersBDaily['date'] <= x['date']].agg(\n",
    "        {'date': 'max', 'ordersPerDateB': 'sum', 'revenuePerDateB': 'sum'}\n",
    "    ),\n",
    "    axis=1,\n",
    ").sort_values(by=['date'])\n",
    "ordersBCummulative.columns = [\n",
    "    'date',\n",
    "    'ordersCummulativeB',\n",
    "    'revenueCummulativeB',\n",
    "]\n",
    "\n",
    "data = (\n",
    "    ordersADaily.merge(\n",
    "        ordersBDaily, left_on='date', right_on='date', how='left'\n",
    "    )\n",
    "    .merge(ordersACummulative, left_on='date', right_on='date', how='left')\n",
    "    .merge(ordersBCummulative, left_on='date', right_on='date', how='left')\n",
    "    .merge(visitorsADaily, left_on='date', right_on='date', how='left')\n",
    "    .merge(visitorsBDaily, left_on='date', right_on='date', how='left')\n",
    "    .merge(visitorsACummulative, left_on='date', right_on='date', how='left')\n",
    "    .merge(visitorsBCummulative, left_on='date', right_on='date', how='left')\n",
    ")\n",
    "\n",
    "\n",
    "ordersByUsersA = (\n",
    "    orders[orders['group'] == 'A']\n",
    "    .groupby('userId', as_index=False)\n",
    "    .agg({'orderId': pd.Series.nunique})\n",
    ")\n",
    "ordersByUsersA.columns = ['userId', 'orders']\n",
    "\n",
    "ordersByUsersB = (\n",
    "    orders[orders['group'] == 'B']\n",
    "    .groupby('userId', as_index=False)\n",
    "    .agg({'orderId': pd.Series.nunique})\n",
    ")\n",
    "ordersByUsersB.columns = ['userId', 'orders']\n",
    "\n",
    "pd.Series(0, index=np.arange(data['visitorsPerDateA'].sum() - len(ordersByUsersA['orders'])), name='orders')\n",
    "\n",
    "[ordersByUsersA['orders'],pd.Series(0, index=np.arange(data['visitorsPerDateA'].sum() - len(ordersByUsersA['orders'])), name='orders')]\n",
    "\n",
    "sampleA = pd.concat([ordersByUsersA['orders'],pd.Series(0, index=np.arange(data['visitorsPerDateA'].sum() - len(ordersByUsersA['orders'])), name='orders')],axis=0)\n",
    "\n",
    "sampleB = pd.concat([ordersByUsersB['orders'],pd.Series(0, index=np.arange(data['visitorsPerDateB'].sum() - len(ordersByUsersB['orders'])), name='orders')],axis=0)\n",
    "\n",
    "ordersByUsersA = (\n",
    "    orders[orders['group'] == 'A']\n",
    "    .groupby('userId', as_index=False)\n",
    "    .agg({'orderId': pd.Series.nunique})\n",
    ")\n",
    "ordersByUsersA.columns = ['userId', 'orders']\n",
    "\n",
    "ordersByUsersB = (\n",
    "    orders[orders['group'] == 'B']\n",
    "    .groupby('userId', as_index=False)\n",
    "    .agg({'orderId': pd.Series.nunique})\n",
    ")\n",
    "ordersByUsersB.columns = ['userId', 'orders']\n",
    "\n",
    "sampleA = pd.concat(\n",
    "    [\n",
    "        ordersByUsersA['orders'],\n",
    "        pd.Series(\n",
    "            0,\n",
    "            index=np.arange(\n",
    "                data['visitorsPerDateA'].sum() - len(ordersByUsersA['orders'])\n",
    "            ),\n",
    "            name='orders',\n",
    "        ),\n",
    "    ],\n",
    "    axis=0,\n",
    ")\n",
    "\n",
    "sampleB = pd.concat(\n",
    "    [\n",
    "        ordersByUsersB['orders'],\n",
    "        pd.Series(\n",
    "            0,\n",
    "            index=np.arange(\n",
    "                data['visitorsPerDateB'].sum() - len(ordersByUsersB['orders'])\n",
    "            ),\n",
    "            name='orders',\n",
    "        ),\n",
    "    ],\n",
    "    axis=0,\n",
    ")\n",
    "\n",
    "print(\"p-value: {0:.3f}\".format(stats.mannwhitneyu(sampleA, sampleB)[1]))\n",
    "\n",
    "print(\"Относительный прирост: {0:.3f}\".format(sampleB.mean() / sampleA.mean() - 1))\n"
   ]
  },
  {
   "cell_type": "code",
   "execution_count": 40,
   "id": "89aa4a33",
   "metadata": {},
   "outputs": [
    {
     "data": {
      "text/html": [
       "<div>\n",
       "<style scoped>\n",
       "    .dataframe tbody tr th:only-of-type {\n",
       "        vertical-align: middle;\n",
       "    }\n",
       "\n",
       "    .dataframe tbody tr th {\n",
       "        vertical-align: top;\n",
       "    }\n",
       "\n",
       "    .dataframe thead th {\n",
       "        text-align: right;\n",
       "    }\n",
       "</style>\n",
       "<table border=\"1\" class=\"dataframe\">\n",
       "  <thead>\n",
       "    <tr style=\"text-align: right;\">\n",
       "      <th></th>\n",
       "      <th>date</th>\n",
       "      <th>group</th>\n",
       "      <th>orders</th>\n",
       "      <th>buyers</th>\n",
       "      <th>revenue</th>\n",
       "      <th>visitors</th>\n",
       "      <th>conversion</th>\n",
       "    </tr>\n",
       "  </thead>\n",
       "  <tbody>\n",
       "    <tr>\n",
       "      <th>0</th>\n",
       "      <td>2019-08-01</td>\n",
       "      <td>A</td>\n",
       "      <td>23</td>\n",
       "      <td>19</td>\n",
       "      <td>142779</td>\n",
       "      <td>719</td>\n",
       "      <td>0.031989</td>\n",
       "    </tr>\n",
       "    <tr>\n",
       "      <th>1</th>\n",
       "      <td>2019-08-01</td>\n",
       "      <td>B</td>\n",
       "      <td>17</td>\n",
       "      <td>17</td>\n",
       "      <td>59758</td>\n",
       "      <td>713</td>\n",
       "      <td>0.023843</td>\n",
       "    </tr>\n",
       "    <tr>\n",
       "      <th>2</th>\n",
       "      <td>2019-08-02</td>\n",
       "      <td>A</td>\n",
       "      <td>42</td>\n",
       "      <td>36</td>\n",
       "      <td>234381</td>\n",
       "      <td>1338</td>\n",
       "      <td>0.031390</td>\n",
       "    </tr>\n",
       "    <tr>\n",
       "      <th>3</th>\n",
       "      <td>2019-08-02</td>\n",
       "      <td>B</td>\n",
       "      <td>40</td>\n",
       "      <td>39</td>\n",
       "      <td>221801</td>\n",
       "      <td>1294</td>\n",
       "      <td>0.030912</td>\n",
       "    </tr>\n",
       "    <tr>\n",
       "      <th>4</th>\n",
       "      <td>2019-08-03</td>\n",
       "      <td>A</td>\n",
       "      <td>66</td>\n",
       "      <td>60</td>\n",
       "      <td>346854</td>\n",
       "      <td>1845</td>\n",
       "      <td>0.035772</td>\n",
       "    </tr>\n",
       "    <tr>\n",
       "      <th>...</th>\n",
       "      <td>...</td>\n",
       "      <td>...</td>\n",
       "      <td>...</td>\n",
       "      <td>...</td>\n",
       "      <td>...</td>\n",
       "      <td>...</td>\n",
       "      <td>...</td>\n",
       "    </tr>\n",
       "    <tr>\n",
       "      <th>57</th>\n",
       "      <td>2019-08-29</td>\n",
       "      <td>B</td>\n",
       "      <td>510</td>\n",
       "      <td>490</td>\n",
       "      <td>4746610</td>\n",
       "      <td>17708</td>\n",
       "      <td>0.028801</td>\n",
       "    </tr>\n",
       "    <tr>\n",
       "      <th>58</th>\n",
       "      <td>2019-08-30</td>\n",
       "      <td>A</td>\n",
       "      <td>460</td>\n",
       "      <td>437</td>\n",
       "      <td>3311413</td>\n",
       "      <td>18037</td>\n",
       "      <td>0.025503</td>\n",
       "    </tr>\n",
       "    <tr>\n",
       "      <th>59</th>\n",
       "      <td>2019-08-30</td>\n",
       "      <td>B</td>\n",
       "      <td>531</td>\n",
       "      <td>511</td>\n",
       "      <td>4955833</td>\n",
       "      <td>18198</td>\n",
       "      <td>0.029179</td>\n",
       "    </tr>\n",
       "    <tr>\n",
       "      <th>60</th>\n",
       "      <td>2019-08-31</td>\n",
       "      <td>A</td>\n",
       "      <td>468</td>\n",
       "      <td>445</td>\n",
       "      <td>3364656</td>\n",
       "      <td>18736</td>\n",
       "      <td>0.024979</td>\n",
       "    </tr>\n",
       "    <tr>\n",
       "      <th>61</th>\n",
       "      <td>2019-08-31</td>\n",
       "      <td>B</td>\n",
       "      <td>548</td>\n",
       "      <td>528</td>\n",
       "      <td>5068972</td>\n",
       "      <td>18916</td>\n",
       "      <td>0.028970</td>\n",
       "    </tr>\n",
       "  </tbody>\n",
       "</table>\n",
       "<p>62 rows × 7 columns</p>\n",
       "</div>"
      ],
      "text/plain": [
       "          date group  orders  buyers  revenue  visitors  conversion\n",
       "0   2019-08-01  A     23      19      142779   719       0.031989  \n",
       "1   2019-08-01  B     17      17      59758    713       0.023843  \n",
       "2   2019-08-02  A     42      36      234381   1338      0.031390  \n",
       "3   2019-08-02  B     40      39      221801   1294      0.030912  \n",
       "4   2019-08-03  A     66      60      346854   1845      0.035772  \n",
       "..         ... ..     ..      ..         ...    ...           ...  \n",
       "57  2019-08-29  B     510     490     4746610  17708     0.028801  \n",
       "58  2019-08-30  A     460     437     3311413  18037     0.025503  \n",
       "59  2019-08-30  B     531     511     4955833  18198     0.029179  \n",
       "60  2019-08-31  A     468     445     3364656  18736     0.024979  \n",
       "61  2019-08-31  B     548     528     5068972  18916     0.028970  \n",
       "\n",
       "[62 rows x 7 columns]"
      ]
     },
     "execution_count": 40,
     "metadata": {},
     "output_type": "execute_result"
    }
   ],
   "source": [
    "cumulativeData"
   ]
  },
  {
   "cell_type": "markdown",
   "id": "88f40b0c",
   "metadata": {},
   "source": [
    "**P-value 0.011 < 0.05, следовательно, нулевую гипотезу (H0) отвергаем. Значит различия в среднем количестве заказов между группами есть.**\n",
    "\n",
    "Относительный прирост среднего количества в группе В по отношению к группе А составил 16%."
   ]
  },
  {
   "cell_type": "markdown",
   "id": "aa189d64",
   "metadata": {},
   "source": [
    "#### 2.11 Посчитайте статистическую значимость различий в среднем чеке заказа между группами по «сырым» данным. Сделайте выводы и предположения."
   ]
  },
  {
   "cell_type": "markdown",
   "id": "c0e69719",
   "metadata": {},
   "source": [
    "- Нулевая гипотеза: различий в среднем чеке заказа между группами нет. \n",
    "- Альтернативная: различия в среднем чеке заказа между группами есть.\n",
    "\n",
    "Подсчитаем p-value и сравним со значение 0.05, чтобы подтвердить Н0 (если p-value >= 0.05) или опровергнуть и принять альтернативную (если p-value < 0.05).\n"
   ]
  },
  {
   "cell_type": "code",
   "execution_count": 41,
   "id": "1dafc419",
   "metadata": {},
   "outputs": [
    {
     "name": "stdout",
     "output_type": "stream",
     "text": [
      "0.829\n",
      "0.287\n"
     ]
    }
   ],
   "source": [
    "print('{0:.3f}'.format(stats.mannwhitneyu(orders[orders['group']=='A']['revenue'], orders[orders['group']=='B']['revenue'])[1]))\n",
    "print('{0:.3f}'.format(orders[orders['group']=='B']['revenue'].mean()/orders[orders['group']=='A']['revenue'].mean()-1))"
   ]
  },
  {
   "cell_type": "markdown",
   "id": "d6c35e08",
   "metadata": {},
   "source": [
    "**P-value 0.829 > 0.05, следовательно, нулевую гипотезу (H0) не отвергаем. Значит различий в среднем чеке заказа между группами нет.**\n",
    "\n",
    "Относительный прирост в среднем чеке в группе В по отношению к группе А составил 28,7%. Что заставляет задуматься, почему тогда нет различий в среднем чеке. Возможно, необходимо убрать аномальные значения в заказах. "
   ]
  },
  {
   "cell_type": "markdown",
   "id": "043f0eb6",
   "metadata": {},
   "source": [
    "#### 2.12 Посчитайте статистическую значимость различий в среднем количестве заказов на посетителя между группами по «очищенным» данным. Сделайте выводы и предположения."
   ]
  },
  {
   "cell_type": "code",
   "execution_count": 42,
   "id": "c005fec1",
   "metadata": {},
   "outputs": [
    {
     "data": {
      "text/plain": [
       "1099    148427295\n",
       "928     204675465\n",
       "33      249864742\n",
       "684     358944393\n",
       "648     382846391\n",
       "Name: userId, dtype: int64"
      ]
     },
     "execution_count": 42,
     "metadata": {},
     "output_type": "execute_result"
    }
   ],
   "source": [
    "# очистим наши данные от аномалий (те, кто заказал больше 2 раз и заказы дороже 30 тысяч рублей)\n",
    "usersWithManyOrders = pd.concat(\n",
    "    [\n",
    "        ordersByUsersA[ordersByUsersA['orders'] > 2]['userId'],\n",
    "        ordersByUsersB[ordersByUsersB['orders'] > 2]['userId'],\n",
    "    ],\n",
    "    axis=0,\n",
    ")\n",
    "usersWithExpensiveOrders = orders[orders['revenue'] > 30000]['userId']\n",
    "abnormalUsers = (\n",
    "    pd.concat([usersWithManyOrders, usersWithExpensiveOrders], axis=0)\n",
    "    .drop_duplicates()\n",
    "    .sort_values()\n",
    ")\n",
    "\n",
    "abnormalUsers.head(5)"
   ]
  },
  {
   "cell_type": "markdown",
   "id": "661c3fa8",
   "metadata": {},
   "source": [
    "Подсчитаем количество аномальных пользователей и уберем их наших данных. "
   ]
  },
  {
   "cell_type": "code",
   "execution_count": 43,
   "id": "01f70372",
   "metadata": {},
   "outputs": [
    {
     "data": {
      "text/plain": [
       "49"
      ]
     },
     "execution_count": 43,
     "metadata": {},
     "output_type": "execute_result"
    }
   ],
   "source": [
    "len(abnormalUsers) #количество аномальных пользователей"
   ]
  },
  {
   "cell_type": "code",
   "execution_count": 44,
   "id": "603ce28e",
   "metadata": {},
   "outputs": [
    {
     "name": "stdout",
     "output_type": "stream",
     "text": [
      "0.010\n",
      "0.187\n"
     ]
    }
   ],
   "source": [
    "sampleAFiltered = pd.concat(\n",
    "    [\n",
    "        ordersByUsersA[\n",
    "            np.logical_not(ordersByUsersA['userId'].isin(abnormalUsers))\n",
    "        ]['orders'],\n",
    "        pd.Series(\n",
    "            0,\n",
    "            index=np.arange(\n",
    "                data['visitorsPerDateA'].sum() - len(ordersByUsersA['orders'])\n",
    "            ),\n",
    "            name='orders',\n",
    "        ),\n",
    "    ],\n",
    "    axis=0,\n",
    ")\n",
    "\n",
    "sampleBFiltered = pd.concat(\n",
    "    [\n",
    "        ordersByUsersB[\n",
    "            np.logical_not(ordersByUsersB['userId'].isin(abnormalUsers))\n",
    "        ]['orders'],\n",
    "        pd.Series(\n",
    "            0,\n",
    "            index=np.arange(\n",
    "                data['visitorsPerDateB'].sum() - len(ordersByUsersB['orders'])\n",
    "            ),\n",
    "            name='orders',\n",
    "        ),\n",
    "    ],\n",
    "    axis=0,\n",
    ")\n",
    "print('{0:.3f}'.format(stats.mannwhitneyu(sampleAFiltered, sampleBFiltered)[1]))\n",
    "print('{0:.3f}'.format(sampleBFiltered.mean()/sampleAFiltered.mean()-1))\n"
   ]
  },
  {
   "cell_type": "markdown",
   "id": "6994c28b",
   "metadata": {},
   "source": [
    "**P-value 0.010 < 0.05, следовательно, нулевую гипотезу (H0) отвергаем. Значит различия в среднем количестве заказов между группами есть.**\n",
    "\n",
    "Относительный прирост среднего количества в группе В по отношению к группе А составил 18,7%."
   ]
  },
  {
   "cell_type": "markdown",
   "id": "2c00b928",
   "metadata": {},
   "source": [
    "#### 2.13 Посчитайте статистическую значимость различий в среднем чеке заказа между группами по «очищенным» данным. Сделайте выводы и предположения."
   ]
  },
  {
   "cell_type": "code",
   "execution_count": 45,
   "id": "6a3a03ac",
   "metadata": {},
   "outputs": [
    {
     "name": "stdout",
     "output_type": "stream",
     "text": [
      "0.741\n",
      "-0.027\n"
     ]
    }
   ],
   "source": [
    "print(\n",
    "    '{0:.3f}'.format(\n",
    "        stats.mannwhitneyu(\n",
    "            orders[\n",
    "                np.logical_and(\n",
    "                    orders['group'] == 'A',\n",
    "                    np.logical_not(orders['userId'].isin(abnormalUsers)),\n",
    "                )\n",
    "            ]['revenue'],\n",
    "            orders[\n",
    "                np.logical_and(\n",
    "                    orders['group'] == 'B',\n",
    "                    np.logical_not(orders['userId'].isin(abnormalUsers)),\n",
    "                )\n",
    "            ]['revenue'],\n",
    "        )[1]\n",
    "    )\n",
    ")\n",
    "\n",
    "print(\n",
    "    \"{0:.3f}\".format(\n",
    "        orders[\n",
    "            np.logical_and(\n",
    "                orders['group'] == 'B',\n",
    "                np.logical_not(orders['userId'].isin(abnormalUsers)),\n",
    "            )\n",
    "        ]['revenue'].mean()\n",
    "        / orders[\n",
    "            np.logical_and(\n",
    "                orders['group'] == 'A',\n",
    "                np.logical_not(orders['userId'].isin(abnormalUsers)),\n",
    "            )\n",
    "        ]['revenue'].mean()\n",
    "        - 1\n",
    "    )\n",
    ")"
   ]
  },
  {
   "cell_type": "markdown",
   "id": "db688292",
   "metadata": {},
   "source": [
    "**P-value 0.74 > 0.05, следовательно, нулевую гипотезу (H0) не отвергаем. Значит различий в среднем чеке заказа по очищенным от аномальных заказов данным между группами нет.**\n",
    "\n",
    "Относительная убыль в среднем чеке в группе В по отношению к группе А составила 2,7%. \n",
    "\n",
    "Таким образом, мы показали, что нет статистически доказанных различий между группами по среднему чеку, а различия между группами варьируют в переделах 2%. "
   ]
  },
  {
   "cell_type": "markdown",
   "id": "3dd3b4f7",
   "metadata": {},
   "source": [
    "### Таким образом, мы можем сделать вывод по 2 части проекта:\n",
    "- мы показали, что после удаления аномальных значений из данных (пользователи, которые делали более 2 заказов и заказы дороже 30 тысяч рублей) нет различий между группами А и В по среднему чеку, т.е. пользователи в обеих группах заказывали примерно на одинаковую сумму.\n",
    "- в то же время, было показано, что существуют статистически достоверные данные о различиях по количеству заказов между группами А и В, что вполне объяснимо. Если пользователям из группы В периодически приходили,напрмер, рассылки по e-mail (гипотиза 7) с напоминаниями о магазине, его товарах, услугах или распродажах, то вполне возможно, что эти пользователи не остановились на 1 заказе, а сделали их 2. Тем самым увеличили количество заказов."
   ]
  },
  {
   "cell_type": "markdown",
   "id": "c863836c",
   "metadata": {},
   "source": [
    "## Решение: остановить тест, зафиксировать победу группы В."
   ]
  },
  {
   "cell_type": "markdown",
   "id": "f6e3359e",
   "metadata": {},
   "source": [
    "## Выводы: \n",
    "1. В процессе данного исследования перед нами стояли следующие задачи: \n",
    " - приоритизировать предложенные гипотезы, \n",
    " - запустить A/B-тест и проанализировать результаты, \n",
    " - дать предложения для увеличения выручки.\n",
    "2. В процессе анализа данных мы продсчитали два дополнительных показателя для рассчета приоритетности гипотез (ICE и RICE). После приоритизации гипотез, нами были выбраны 4 основных: №7, №2, №6 и №0. \n",
    "3. Если бы требовалось проведение А/В теста для проверки только **одной гипотезы**, я бы выбрала гипотезу 7 (для сбора  e-mails), поскольку, помимо всего вышеперечисленного, из опубликованных данных есть достаточно достоверная информация  о высокой эффективности e-mail рассылок. \n",
    "3. В рамках проведения A/B-теста были статистически проверены различия между группами по количеству заказов и среднему чеку. Были удалены из анализа аномальные значения (большое калочество заказов и большие суммы заказов) и снова проверены показатели. \n",
    "4. Было показано, что нет различий между группами А и В по среднему чеку, т.е. пользователи в обеих группах заказывали примерно на одинаковую сумму.\n",
    "5. Было показано, что существуют статистически достоверные данные о различиях по количеству заказов между группами А и В, что вполне объяснимо. Если пользователям из группы В периодически приходили,напрмер, рассылки по e-mail (гипотиза 7) с напоминаниями о магазине, его товарах, услугах или распродажах, то вполне возможно, что эти пользователи не остановились на 1 заказе, а сделали их 2. Тем самым увеличили количество заказов."
   ]
  },
  {
   "cell_type": "markdown",
   "id": "79841ddf",
   "metadata": {},
   "source": [
    "## Рекомендации\n",
    "\n",
    "- поскольку средний чек сложнее увеличить, можно использовать приемы для увеличения количества заказов: использовать e-mail-рассылки для напоминания о магазине, присылать в них коды на скидки или рекламировать в рассылке ТОП-товары, или идеи для подарков к празникам и т.д.\n",
    "- добавить новые каналы для привлечения клиентов\n",
    "- разместить на главной странице баннеры для быстрой покупки ТОП-товаров или подарков к праздникам."
   ]
  }
 ],
 "metadata": {
  "ExecuteTimeLog": [
   {
    "duration": 1020,
    "start_time": "2024-01-09T06:22:27.048Z"
   },
   {
    "duration": 122,
    "start_time": "2024-01-09T06:22:28.070Z"
   },
   {
    "duration": 44,
    "start_time": "2024-01-09T06:22:28.194Z"
   },
   {
    "duration": 3,
    "start_time": "2024-01-09T06:22:28.240Z"
   },
   {
    "duration": 18,
    "start_time": "2024-01-09T06:22:28.244Z"
   },
   {
    "duration": 13,
    "start_time": "2024-01-09T06:22:28.263Z"
   },
   {
    "duration": 6,
    "start_time": "2024-01-09T06:22:28.277Z"
   },
   {
    "duration": 8,
    "start_time": "2024-01-09T06:22:28.285Z"
   },
   {
    "duration": 13,
    "start_time": "2024-01-09T06:22:28.294Z"
   },
   {
    "duration": 118,
    "start_time": "2024-01-09T06:22:28.317Z"
   },
   {
    "duration": 10,
    "start_time": "2024-01-09T06:22:28.437Z"
   },
   {
    "duration": 3,
    "start_time": "2024-01-09T06:22:28.449Z"
   },
   {
    "duration": 8,
    "start_time": "2024-01-09T06:22:28.454Z"
   },
   {
    "duration": 192,
    "start_time": "2024-01-09T06:22:28.464Z"
   },
   {
    "duration": 7,
    "start_time": "2024-01-09T06:22:28.657Z"
   },
   {
    "duration": 469,
    "start_time": "2024-01-09T06:22:28.666Z"
   },
   {
    "duration": 8,
    "start_time": "2024-01-09T06:22:29.136Z"
   },
   {
    "duration": 273,
    "start_time": "2024-01-09T06:22:29.145Z"
   },
   {
    "duration": 274,
    "start_time": "2024-01-09T06:22:29.419Z"
   },
   {
    "duration": 414,
    "start_time": "2024-01-09T06:22:29.695Z"
   },
   {
    "duration": 282,
    "start_time": "2024-01-09T06:22:30.115Z"
   },
   {
    "duration": 425,
    "start_time": "2024-01-09T06:22:30.399Z"
   },
   {
    "duration": 148,
    "start_time": "2024-01-09T06:22:30.826Z"
   },
   {
    "duration": 5,
    "start_time": "2024-01-09T06:22:30.975Z"
   },
   {
    "duration": 156,
    "start_time": "2024-01-09T06:22:30.981Z"
   },
   {
    "duration": 5,
    "start_time": "2024-01-09T06:22:31.138Z"
   },
   {
    "duration": 495,
    "start_time": "2024-01-09T06:22:31.145Z"
   },
   {
    "duration": 9,
    "start_time": "2024-01-09T06:22:31.643Z"
   },
   {
    "duration": 22,
    "start_time": "2024-01-09T06:22:31.653Z"
   },
   {
    "duration": 68,
    "start_time": "2024-01-09T06:22:31.676Z"
   },
   {
    "duration": 12,
    "start_time": "2024-01-09T06:22:31.746Z"
   },
   {
    "duration": 1067,
    "start_time": "2024-01-09T06:38:04.819Z"
   },
   {
    "duration": 112,
    "start_time": "2024-01-09T06:38:05.888Z"
   },
   {
    "duration": 41,
    "start_time": "2024-01-09T06:38:06.002Z"
   },
   {
    "duration": 3,
    "start_time": "2024-01-09T06:38:06.045Z"
   },
   {
    "duration": 12,
    "start_time": "2024-01-09T06:38:06.050Z"
   },
   {
    "duration": 8,
    "start_time": "2024-01-09T06:38:06.064Z"
   },
   {
    "duration": 8,
    "start_time": "2024-01-09T06:38:06.073Z"
   },
   {
    "duration": 6,
    "start_time": "2024-01-09T06:38:06.083Z"
   },
   {
    "duration": 8,
    "start_time": "2024-01-09T06:38:06.090Z"
   },
   {
    "duration": 85,
    "start_time": "2024-01-09T06:38:06.100Z"
   },
   {
    "duration": 9,
    "start_time": "2024-01-09T06:38:06.187Z"
   },
   {
    "duration": 3,
    "start_time": "2024-01-09T06:38:06.197Z"
   },
   {
    "duration": 8,
    "start_time": "2024-01-09T06:38:06.201Z"
   },
   {
    "duration": 110,
    "start_time": "2024-01-09T06:38:06.212Z"
   },
   {
    "duration": 7,
    "start_time": "2024-01-09T06:38:06.323Z"
   },
   {
    "duration": 518,
    "start_time": "2024-01-09T06:38:06.331Z"
   },
   {
    "duration": 9,
    "start_time": "2024-01-09T06:38:06.851Z"
   },
   {
    "duration": 283,
    "start_time": "2024-01-09T06:38:06.862Z"
   },
   {
    "duration": 273,
    "start_time": "2024-01-09T06:38:07.146Z"
   },
   {
    "duration": 381,
    "start_time": "2024-01-09T06:38:07.421Z"
   },
   {
    "duration": 289,
    "start_time": "2024-01-09T06:38:07.803Z"
   },
   {
    "duration": 412,
    "start_time": "2024-01-09T06:38:08.094Z"
   },
   {
    "duration": 122,
    "start_time": "2024-01-09T06:38:08.507Z"
   },
   {
    "duration": 5,
    "start_time": "2024-01-09T06:38:08.630Z"
   },
   {
    "duration": 157,
    "start_time": "2024-01-09T06:38:08.637Z"
   },
   {
    "duration": 5,
    "start_time": "2024-01-09T06:38:08.795Z"
   },
   {
    "duration": 476,
    "start_time": "2024-01-09T06:38:08.802Z"
   },
   {
    "duration": 9,
    "start_time": "2024-01-09T06:38:09.280Z"
   },
   {
    "duration": 25,
    "start_time": "2024-01-09T06:38:09.290Z"
   },
   {
    "duration": 29,
    "start_time": "2024-01-09T06:38:09.316Z"
   },
   {
    "duration": 12,
    "start_time": "2024-01-09T06:38:09.347Z"
   },
   {
    "duration": 1043,
    "start_time": "2024-01-09T06:59:40.113Z"
   },
   {
    "duration": 88,
    "start_time": "2024-01-09T06:59:41.157Z"
   },
   {
    "duration": 41,
    "start_time": "2024-01-09T06:59:41.246Z"
   },
   {
    "duration": 3,
    "start_time": "2024-01-09T06:59:41.288Z"
   },
   {
    "duration": 20,
    "start_time": "2024-01-09T06:59:41.293Z"
   },
   {
    "duration": 20,
    "start_time": "2024-01-09T06:59:41.314Z"
   },
   {
    "duration": 37,
    "start_time": "2024-01-09T06:59:41.335Z"
   },
   {
    "duration": 22,
    "start_time": "2024-01-09T06:59:41.374Z"
   },
   {
    "duration": 19,
    "start_time": "2024-01-09T06:59:41.397Z"
   },
   {
    "duration": 93,
    "start_time": "2024-01-09T06:59:41.417Z"
   },
   {
    "duration": 9,
    "start_time": "2024-01-09T06:59:41.511Z"
   },
   {
    "duration": 3,
    "start_time": "2024-01-09T06:59:41.522Z"
   },
   {
    "duration": 9,
    "start_time": "2024-01-09T06:59:41.526Z"
   },
   {
    "duration": 88,
    "start_time": "2024-01-09T06:59:41.537Z"
   },
   {
    "duration": 6,
    "start_time": "2024-01-09T06:59:41.627Z"
   },
   {
    "duration": 490,
    "start_time": "2024-01-09T06:59:41.634Z"
   },
   {
    "duration": 7,
    "start_time": "2024-01-09T06:59:42.126Z"
   },
   {
    "duration": 270,
    "start_time": "2024-01-09T06:59:42.134Z"
   },
   {
    "duration": 262,
    "start_time": "2024-01-09T06:59:42.406Z"
   },
   {
    "duration": 362,
    "start_time": "2024-01-09T06:59:42.669Z"
   },
   {
    "duration": 282,
    "start_time": "2024-01-09T06:59:43.032Z"
   },
   {
    "duration": 411,
    "start_time": "2024-01-09T06:59:43.316Z"
   },
   {
    "duration": 126,
    "start_time": "2024-01-09T06:59:43.729Z"
   },
   {
    "duration": 5,
    "start_time": "2024-01-09T06:59:43.856Z"
   },
   {
    "duration": 163,
    "start_time": "2024-01-09T06:59:43.863Z"
   },
   {
    "duration": 5,
    "start_time": "2024-01-09T06:59:44.028Z"
   },
   {
    "duration": 493,
    "start_time": "2024-01-09T06:59:44.035Z"
   },
   {
    "duration": 10,
    "start_time": "2024-01-09T06:59:44.529Z"
   },
   {
    "duration": 10,
    "start_time": "2024-01-09T06:59:44.541Z"
   },
   {
    "duration": 28,
    "start_time": "2024-01-09T06:59:44.553Z"
   },
   {
    "duration": 37,
    "start_time": "2024-01-09T06:59:44.582Z"
   },
   {
    "duration": 1037,
    "start_time": "2024-01-09T07:01:37.027Z"
   },
   {
    "duration": 78,
    "start_time": "2024-01-09T07:01:38.066Z"
   },
   {
    "duration": 49,
    "start_time": "2024-01-09T07:01:38.146Z"
   },
   {
    "duration": 3,
    "start_time": "2024-01-09T07:01:38.197Z"
   },
   {
    "duration": 16,
    "start_time": "2024-01-09T07:01:38.202Z"
   },
   {
    "duration": 6,
    "start_time": "2024-01-09T07:01:38.219Z"
   },
   {
    "duration": 5,
    "start_time": "2024-01-09T07:01:38.226Z"
   },
   {
    "duration": 6,
    "start_time": "2024-01-09T07:01:38.232Z"
   },
   {
    "duration": 16,
    "start_time": "2024-01-09T07:01:38.239Z"
   },
   {
    "duration": 86,
    "start_time": "2024-01-09T07:01:38.257Z"
   },
   {
    "duration": 12,
    "start_time": "2024-01-09T07:01:38.345Z"
   },
   {
    "duration": 4,
    "start_time": "2024-01-09T07:01:38.359Z"
   },
   {
    "duration": 15,
    "start_time": "2024-01-09T07:01:38.364Z"
   },
   {
    "duration": 102,
    "start_time": "2024-01-09T07:01:38.383Z"
   },
   {
    "duration": 6,
    "start_time": "2024-01-09T07:01:38.486Z"
   },
   {
    "duration": 483,
    "start_time": "2024-01-09T07:01:38.494Z"
   },
   {
    "duration": 8,
    "start_time": "2024-01-09T07:01:38.978Z"
   },
   {
    "duration": 271,
    "start_time": "2024-01-09T07:01:38.987Z"
   },
   {
    "duration": 263,
    "start_time": "2024-01-09T07:01:39.260Z"
   },
   {
    "duration": 364,
    "start_time": "2024-01-09T07:01:39.525Z"
   },
   {
    "duration": 286,
    "start_time": "2024-01-09T07:01:39.890Z"
   },
   {
    "duration": 413,
    "start_time": "2024-01-09T07:01:40.178Z"
   },
   {
    "duration": 139,
    "start_time": "2024-01-09T07:01:40.593Z"
   },
   {
    "duration": 6,
    "start_time": "2024-01-09T07:01:40.734Z"
   },
   {
    "duration": 158,
    "start_time": "2024-01-09T07:01:40.741Z"
   },
   {
    "duration": 5,
    "start_time": "2024-01-09T07:01:40.900Z"
   },
   {
    "duration": 449,
    "start_time": "2024-01-09T07:01:40.915Z"
   },
   {
    "duration": 9,
    "start_time": "2024-01-09T07:01:41.366Z"
   },
   {
    "duration": 9,
    "start_time": "2024-01-09T07:01:41.376Z"
   },
   {
    "duration": 42,
    "start_time": "2024-01-09T07:01:41.386Z"
   },
   {
    "duration": 11,
    "start_time": "2024-01-09T07:01:41.430Z"
   },
   {
    "duration": 1107,
    "start_time": "2024-01-09T07:02:53.159Z"
   },
   {
    "duration": 103,
    "start_time": "2024-01-09T07:02:54.270Z"
   },
   {
    "duration": 40,
    "start_time": "2024-01-09T07:02:54.374Z"
   },
   {
    "duration": 3,
    "start_time": "2024-01-09T07:02:54.416Z"
   },
   {
    "duration": 17,
    "start_time": "2024-01-09T07:02:54.420Z"
   },
   {
    "duration": 6,
    "start_time": "2024-01-09T07:02:54.438Z"
   },
   {
    "duration": 5,
    "start_time": "2024-01-09T07:02:54.445Z"
   },
   {
    "duration": 13,
    "start_time": "2024-01-09T07:02:54.452Z"
   },
   {
    "duration": 13,
    "start_time": "2024-01-09T07:02:54.466Z"
   },
   {
    "duration": 80,
    "start_time": "2024-01-09T07:02:54.481Z"
   },
   {
    "duration": 10,
    "start_time": "2024-01-09T07:02:54.562Z"
   },
   {
    "duration": 3,
    "start_time": "2024-01-09T07:02:54.573Z"
   },
   {
    "duration": 24,
    "start_time": "2024-01-09T07:02:54.577Z"
   },
   {
    "duration": 81,
    "start_time": "2024-01-09T07:02:54.602Z"
   },
   {
    "duration": 7,
    "start_time": "2024-01-09T07:02:54.684Z"
   },
   {
    "duration": 495,
    "start_time": "2024-01-09T07:02:54.693Z"
   },
   {
    "duration": 9,
    "start_time": "2024-01-09T07:02:55.189Z"
   },
   {
    "duration": 293,
    "start_time": "2024-01-09T07:02:55.199Z"
   },
   {
    "duration": 272,
    "start_time": "2024-01-09T07:02:55.494Z"
   },
   {
    "duration": 351,
    "start_time": "2024-01-09T07:02:55.768Z"
   },
   {
    "duration": 287,
    "start_time": "2024-01-09T07:02:56.121Z"
   },
   {
    "duration": 393,
    "start_time": "2024-01-09T07:02:56.409Z"
   },
   {
    "duration": 129,
    "start_time": "2024-01-09T07:02:56.803Z"
   },
   {
    "duration": 4,
    "start_time": "2024-01-09T07:02:56.934Z"
   },
   {
    "duration": 146,
    "start_time": "2024-01-09T07:02:56.940Z"
   },
   {
    "duration": 6,
    "start_time": "2024-01-09T07:02:57.088Z"
   },
   {
    "duration": 455,
    "start_time": "2024-01-09T07:02:57.095Z"
   },
   {
    "duration": 9,
    "start_time": "2024-01-09T07:02:57.554Z"
   },
   {
    "duration": 10,
    "start_time": "2024-01-09T07:02:57.565Z"
   },
   {
    "duration": 53,
    "start_time": "2024-01-09T07:02:57.576Z"
   },
   {
    "duration": 13,
    "start_time": "2024-01-09T07:02:57.631Z"
   },
   {
    "duration": 1236,
    "start_time": "2024-01-10T07:26:08.946Z"
   },
   {
    "duration": 0,
    "start_time": "2024-01-10T07:26:10.186Z"
   },
   {
    "duration": 0,
    "start_time": "2024-01-10T07:26:10.188Z"
   },
   {
    "duration": 0,
    "start_time": "2024-01-10T07:26:10.189Z"
   },
   {
    "duration": 0,
    "start_time": "2024-01-10T07:26:10.190Z"
   },
   {
    "duration": 0,
    "start_time": "2024-01-10T07:26:10.191Z"
   },
   {
    "duration": 0,
    "start_time": "2024-01-10T07:26:10.200Z"
   },
   {
    "duration": 0,
    "start_time": "2024-01-10T07:26:10.201Z"
   },
   {
    "duration": 0,
    "start_time": "2024-01-10T07:26:10.202Z"
   },
   {
    "duration": 0,
    "start_time": "2024-01-10T07:26:10.203Z"
   },
   {
    "duration": 0,
    "start_time": "2024-01-10T07:26:10.204Z"
   },
   {
    "duration": 0,
    "start_time": "2024-01-10T07:26:10.206Z"
   },
   {
    "duration": 0,
    "start_time": "2024-01-10T07:26:10.207Z"
   },
   {
    "duration": 0,
    "start_time": "2024-01-10T07:26:10.208Z"
   },
   {
    "duration": 0,
    "start_time": "2024-01-10T07:26:10.209Z"
   },
   {
    "duration": 0,
    "start_time": "2024-01-10T07:26:10.210Z"
   },
   {
    "duration": 0,
    "start_time": "2024-01-10T07:26:10.211Z"
   },
   {
    "duration": 0,
    "start_time": "2024-01-10T07:26:10.212Z"
   },
   {
    "duration": 0,
    "start_time": "2024-01-10T07:26:10.213Z"
   },
   {
    "duration": 0,
    "start_time": "2024-01-10T07:26:10.214Z"
   },
   {
    "duration": 0,
    "start_time": "2024-01-10T07:26:10.216Z"
   },
   {
    "duration": 0,
    "start_time": "2024-01-10T07:26:10.217Z"
   },
   {
    "duration": 0,
    "start_time": "2024-01-10T07:26:10.218Z"
   },
   {
    "duration": 0,
    "start_time": "2024-01-10T07:26:10.219Z"
   },
   {
    "duration": 0,
    "start_time": "2024-01-10T07:26:10.220Z"
   },
   {
    "duration": 0,
    "start_time": "2024-01-10T07:26:10.221Z"
   },
   {
    "duration": 0,
    "start_time": "2024-01-10T07:26:10.222Z"
   },
   {
    "duration": 0,
    "start_time": "2024-01-10T07:26:10.223Z"
   },
   {
    "duration": 0,
    "start_time": "2024-01-10T07:26:10.225Z"
   },
   {
    "duration": 0,
    "start_time": "2024-01-10T07:26:10.225Z"
   },
   {
    "duration": 0,
    "start_time": "2024-01-10T07:26:10.226Z"
   },
   {
    "duration": 0,
    "start_time": "2024-01-10T07:26:10.227Z"
   },
   {
    "duration": 0,
    "start_time": "2024-01-10T07:26:10.229Z"
   },
   {
    "duration": 0,
    "start_time": "2024-01-10T07:26:10.230Z"
   },
   {
    "duration": 0,
    "start_time": "2024-01-10T07:26:10.231Z"
   },
   {
    "duration": 0,
    "start_time": "2024-01-10T07:26:10.232Z"
   },
   {
    "duration": 0,
    "start_time": "2024-01-10T07:26:10.233Z"
   },
   {
    "duration": 0,
    "start_time": "2024-01-10T07:26:10.234Z"
   },
   {
    "duration": 0,
    "start_time": "2024-01-10T07:26:10.235Z"
   },
   {
    "duration": 0,
    "start_time": "2024-01-10T07:26:10.236Z"
   },
   {
    "duration": 0,
    "start_time": "2024-01-10T07:26:10.237Z"
   },
   {
    "duration": 0,
    "start_time": "2024-01-10T07:26:10.299Z"
   },
   {
    "duration": 0,
    "start_time": "2024-01-10T07:26:10.300Z"
   },
   {
    "duration": 0,
    "start_time": "2024-01-10T07:26:10.302Z"
   },
   {
    "duration": 0,
    "start_time": "2024-01-10T07:26:10.303Z"
   },
   {
    "duration": 0,
    "start_time": "2024-01-10T07:26:10.304Z"
   },
   {
    "duration": 1307,
    "start_time": "2024-01-10T07:51:27.378Z"
   },
   {
    "duration": 0,
    "start_time": "2024-01-10T07:51:28.690Z"
   },
   {
    "duration": 0,
    "start_time": "2024-01-10T07:51:28.691Z"
   },
   {
    "duration": 0,
    "start_time": "2024-01-10T07:51:28.692Z"
   },
   {
    "duration": 0,
    "start_time": "2024-01-10T07:51:28.693Z"
   },
   {
    "duration": 0,
    "start_time": "2024-01-10T07:51:28.694Z"
   },
   {
    "duration": 0,
    "start_time": "2024-01-10T07:51:28.700Z"
   },
   {
    "duration": 0,
    "start_time": "2024-01-10T07:51:28.701Z"
   },
   {
    "duration": 0,
    "start_time": "2024-01-10T07:51:28.702Z"
   },
   {
    "duration": 0,
    "start_time": "2024-01-10T07:51:28.702Z"
   },
   {
    "duration": 0,
    "start_time": "2024-01-10T07:51:28.704Z"
   },
   {
    "duration": 0,
    "start_time": "2024-01-10T07:51:28.705Z"
   },
   {
    "duration": 0,
    "start_time": "2024-01-10T07:51:28.706Z"
   },
   {
    "duration": 0,
    "start_time": "2024-01-10T07:51:28.707Z"
   },
   {
    "duration": 0,
    "start_time": "2024-01-10T07:51:28.708Z"
   },
   {
    "duration": 0,
    "start_time": "2024-01-10T07:51:28.709Z"
   },
   {
    "duration": 0,
    "start_time": "2024-01-10T07:51:28.710Z"
   },
   {
    "duration": 0,
    "start_time": "2024-01-10T07:51:28.712Z"
   },
   {
    "duration": 0,
    "start_time": "2024-01-10T07:51:28.713Z"
   },
   {
    "duration": 0,
    "start_time": "2024-01-10T07:51:28.714Z"
   },
   {
    "duration": 0,
    "start_time": "2024-01-10T07:51:28.715Z"
   },
   {
    "duration": 0,
    "start_time": "2024-01-10T07:51:28.716Z"
   },
   {
    "duration": 0,
    "start_time": "2024-01-10T07:51:28.717Z"
   },
   {
    "duration": 0,
    "start_time": "2024-01-10T07:51:28.718Z"
   },
   {
    "duration": 0,
    "start_time": "2024-01-10T07:51:28.719Z"
   },
   {
    "duration": 0,
    "start_time": "2024-01-10T07:51:28.720Z"
   },
   {
    "duration": 0,
    "start_time": "2024-01-10T07:51:28.721Z"
   },
   {
    "duration": 0,
    "start_time": "2024-01-10T07:51:28.722Z"
   },
   {
    "duration": 0,
    "start_time": "2024-01-10T07:51:28.723Z"
   },
   {
    "duration": 0,
    "start_time": "2024-01-10T07:51:28.724Z"
   },
   {
    "duration": 0,
    "start_time": "2024-01-10T07:51:28.726Z"
   },
   {
    "duration": 0,
    "start_time": "2024-01-10T07:51:28.727Z"
   },
   {
    "duration": 0,
    "start_time": "2024-01-10T07:51:28.728Z"
   },
   {
    "duration": 0,
    "start_time": "2024-01-10T07:51:28.729Z"
   },
   {
    "duration": 0,
    "start_time": "2024-01-10T07:51:28.730Z"
   },
   {
    "duration": 0,
    "start_time": "2024-01-10T07:51:28.731Z"
   },
   {
    "duration": 0,
    "start_time": "2024-01-10T07:51:28.732Z"
   },
   {
    "duration": 0,
    "start_time": "2024-01-10T07:51:28.733Z"
   },
   {
    "duration": 0,
    "start_time": "2024-01-10T07:51:28.735Z"
   },
   {
    "duration": 0,
    "start_time": "2024-01-10T07:51:28.736Z"
   },
   {
    "duration": 0,
    "start_time": "2024-01-10T07:51:28.737Z"
   },
   {
    "duration": 0,
    "start_time": "2024-01-10T07:51:28.738Z"
   },
   {
    "duration": 0,
    "start_time": "2024-01-10T07:51:28.800Z"
   },
   {
    "duration": 0,
    "start_time": "2024-01-10T07:51:28.801Z"
   },
   {
    "duration": 0,
    "start_time": "2024-01-10T07:51:28.802Z"
   },
   {
    "duration": 0,
    "start_time": "2024-01-10T07:51:28.804Z"
   },
   {
    "duration": 1403,
    "start_time": "2024-01-10T15:38:01.867Z"
   },
   {
    "duration": 0,
    "start_time": "2024-01-10T15:38:03.273Z"
   },
   {
    "duration": 0,
    "start_time": "2024-01-10T15:38:03.275Z"
   },
   {
    "duration": 0,
    "start_time": "2024-01-10T15:38:03.276Z"
   },
   {
    "duration": 0,
    "start_time": "2024-01-10T15:38:03.277Z"
   },
   {
    "duration": 0,
    "start_time": "2024-01-10T15:38:03.279Z"
   },
   {
    "duration": 0,
    "start_time": "2024-01-10T15:38:03.280Z"
   },
   {
    "duration": 0,
    "start_time": "2024-01-10T15:38:03.292Z"
   },
   {
    "duration": 0,
    "start_time": "2024-01-10T15:38:03.293Z"
   },
   {
    "duration": 0,
    "start_time": "2024-01-10T15:38:03.293Z"
   },
   {
    "duration": 0,
    "start_time": "2024-01-10T15:38:03.294Z"
   },
   {
    "duration": 1,
    "start_time": "2024-01-10T15:38:03.295Z"
   },
   {
    "duration": 0,
    "start_time": "2024-01-10T15:38:03.297Z"
   },
   {
    "duration": 0,
    "start_time": "2024-01-10T15:38:03.298Z"
   },
   {
    "duration": 0,
    "start_time": "2024-01-10T15:38:03.299Z"
   },
   {
    "duration": 0,
    "start_time": "2024-01-10T15:38:03.300Z"
   },
   {
    "duration": 0,
    "start_time": "2024-01-10T15:38:03.301Z"
   },
   {
    "duration": 0,
    "start_time": "2024-01-10T15:38:03.302Z"
   },
   {
    "duration": 0,
    "start_time": "2024-01-10T15:38:03.303Z"
   },
   {
    "duration": 0,
    "start_time": "2024-01-10T15:38:03.304Z"
   },
   {
    "duration": 0,
    "start_time": "2024-01-10T15:38:03.305Z"
   },
   {
    "duration": 0,
    "start_time": "2024-01-10T15:38:03.306Z"
   },
   {
    "duration": 0,
    "start_time": "2024-01-10T15:38:03.307Z"
   },
   {
    "duration": 0,
    "start_time": "2024-01-10T15:38:03.307Z"
   },
   {
    "duration": 0,
    "start_time": "2024-01-10T15:38:03.309Z"
   },
   {
    "duration": 0,
    "start_time": "2024-01-10T15:38:03.310Z"
   },
   {
    "duration": 0,
    "start_time": "2024-01-10T15:38:03.311Z"
   },
   {
    "duration": 0,
    "start_time": "2024-01-10T15:38:03.312Z"
   },
   {
    "duration": 0,
    "start_time": "2024-01-10T15:38:03.313Z"
   },
   {
    "duration": 0,
    "start_time": "2024-01-10T15:38:03.314Z"
   },
   {
    "duration": 0,
    "start_time": "2024-01-10T15:38:03.315Z"
   },
   {
    "duration": 0,
    "start_time": "2024-01-10T15:38:03.316Z"
   },
   {
    "duration": 0,
    "start_time": "2024-01-10T15:38:03.317Z"
   },
   {
    "duration": 0,
    "start_time": "2024-01-10T15:38:03.318Z"
   },
   {
    "duration": 0,
    "start_time": "2024-01-10T15:38:03.319Z"
   },
   {
    "duration": 0,
    "start_time": "2024-01-10T15:38:03.320Z"
   },
   {
    "duration": 0,
    "start_time": "2024-01-10T15:38:03.321Z"
   },
   {
    "duration": 0,
    "start_time": "2024-01-10T15:38:03.323Z"
   },
   {
    "duration": 0,
    "start_time": "2024-01-10T15:38:03.323Z"
   },
   {
    "duration": 0,
    "start_time": "2024-01-10T15:38:03.325Z"
   },
   {
    "duration": 0,
    "start_time": "2024-01-10T15:38:03.326Z"
   },
   {
    "duration": 0,
    "start_time": "2024-01-10T15:38:03.327Z"
   },
   {
    "duration": 0,
    "start_time": "2024-01-10T15:38:03.328Z"
   },
   {
    "duration": 0,
    "start_time": "2024-01-10T15:38:03.392Z"
   },
   {
    "duration": 0,
    "start_time": "2024-01-10T15:38:03.393Z"
   },
   {
    "duration": 0,
    "start_time": "2024-01-10T15:38:03.394Z"
   },
   {
    "duration": 1097,
    "start_time": "2024-01-10T15:40:55.128Z"
   },
   {
    "duration": 1107,
    "start_time": "2024-01-10T15:41:03.312Z"
   },
   {
    "duration": 3947,
    "start_time": "2024-01-10T15:41:10.923Z"
   },
   {
    "duration": 2364,
    "start_time": "2024-01-10T15:41:23.317Z"
   },
   {
    "duration": 1093,
    "start_time": "2024-01-10T15:41:25.683Z"
   },
   {
    "duration": 218,
    "start_time": "2024-01-10T15:41:26.778Z"
   },
   {
    "duration": 43,
    "start_time": "2024-01-10T15:41:26.998Z"
   },
   {
    "duration": 3,
    "start_time": "2024-01-10T15:41:27.043Z"
   },
   {
    "duration": 17,
    "start_time": "2024-01-10T15:41:27.047Z"
   },
   {
    "duration": 31,
    "start_time": "2024-01-10T15:41:27.066Z"
   },
   {
    "duration": 13,
    "start_time": "2024-01-10T15:41:27.099Z"
   },
   {
    "duration": 17,
    "start_time": "2024-01-10T15:41:27.113Z"
   },
   {
    "duration": 16,
    "start_time": "2024-01-10T15:41:27.134Z"
   },
   {
    "duration": 19,
    "start_time": "2024-01-10T15:41:27.152Z"
   },
   {
    "duration": 90,
    "start_time": "2024-01-10T15:41:27.173Z"
   },
   {
    "duration": 9,
    "start_time": "2024-01-10T15:41:27.264Z"
   },
   {
    "duration": 14,
    "start_time": "2024-01-10T15:41:27.275Z"
   },
   {
    "duration": 9,
    "start_time": "2024-01-10T15:41:27.291Z"
   },
   {
    "duration": 8,
    "start_time": "2024-01-10T15:41:27.301Z"
   },
   {
    "duration": 37,
    "start_time": "2024-01-10T15:41:27.311Z"
   },
   {
    "duration": 20,
    "start_time": "2024-01-10T15:41:27.350Z"
   },
   {
    "duration": 95,
    "start_time": "2024-01-10T15:41:27.371Z"
   },
   {
    "duration": 3,
    "start_time": "2024-01-10T15:41:27.468Z"
   },
   {
    "duration": 17,
    "start_time": "2024-01-10T15:41:27.473Z"
   },
   {
    "duration": 23,
    "start_time": "2024-01-10T15:41:27.492Z"
   },
   {
    "duration": 13,
    "start_time": "2024-01-10T15:41:27.517Z"
   },
   {
    "duration": 146,
    "start_time": "2024-01-10T15:41:27.532Z"
   },
   {
    "duration": 8,
    "start_time": "2024-01-10T15:41:27.679Z"
   },
   {
    "duration": 34,
    "start_time": "2024-01-10T15:41:27.689Z"
   },
   {
    "duration": 28,
    "start_time": "2024-01-10T15:41:27.725Z"
   },
   {
    "duration": 27,
    "start_time": "2024-01-10T15:41:27.757Z"
   },
   {
    "duration": 508,
    "start_time": "2024-01-10T15:41:27.786Z"
   },
   {
    "duration": 7,
    "start_time": "2024-01-10T15:41:28.296Z"
   },
   {
    "duration": 293,
    "start_time": "2024-01-10T15:41:28.305Z"
   },
   {
    "duration": 285,
    "start_time": "2024-01-10T15:41:28.600Z"
   },
   {
    "duration": 376,
    "start_time": "2024-01-10T15:41:28.887Z"
   },
   {
    "duration": 297,
    "start_time": "2024-01-10T15:41:29.265Z"
   },
   {
    "duration": 377,
    "start_time": "2024-01-10T15:41:29.564Z"
   },
   {
    "duration": 148,
    "start_time": "2024-01-10T15:41:29.943Z"
   },
   {
    "duration": 5,
    "start_time": "2024-01-10T15:41:30.092Z"
   },
   {
    "duration": 219,
    "start_time": "2024-01-10T15:41:30.099Z"
   },
   {
    "duration": 215,
    "start_time": "2024-01-10T15:41:30.320Z"
   },
   {
    "duration": 16,
    "start_time": "2024-01-10T15:41:30.537Z"
   },
   {
    "duration": 537,
    "start_time": "2024-01-10T15:41:30.555Z"
   },
   {
    "duration": 0,
    "start_time": "2024-01-10T15:41:31.093Z"
   },
   {
    "duration": 0,
    "start_time": "2024-01-10T15:41:31.094Z"
   },
   {
    "duration": 0,
    "start_time": "2024-01-10T15:41:31.095Z"
   },
   {
    "duration": 0,
    "start_time": "2024-01-10T15:41:31.097Z"
   },
   {
    "duration": 0,
    "start_time": "2024-01-10T15:41:31.098Z"
   },
   {
    "duration": 0,
    "start_time": "2024-01-10T15:41:31.099Z"
   },
   {
    "duration": 3713,
    "start_time": "2024-01-11T04:43:09.013Z"
   },
   {
    "duration": 1045,
    "start_time": "2024-01-11T04:43:12.728Z"
   },
   {
    "duration": 175,
    "start_time": "2024-01-11T04:43:13.775Z"
   },
   {
    "duration": 41,
    "start_time": "2024-01-11T04:43:13.952Z"
   },
   {
    "duration": 3,
    "start_time": "2024-01-11T04:43:13.995Z"
   },
   {
    "duration": 22,
    "start_time": "2024-01-11T04:43:14.000Z"
   },
   {
    "duration": 8,
    "start_time": "2024-01-11T04:43:14.024Z"
   },
   {
    "duration": 9,
    "start_time": "2024-01-11T04:43:14.034Z"
   },
   {
    "duration": 6,
    "start_time": "2024-01-11T04:43:14.044Z"
   },
   {
    "duration": 5,
    "start_time": "2024-01-11T04:43:14.053Z"
   },
   {
    "duration": 6,
    "start_time": "2024-01-11T04:43:14.059Z"
   },
   {
    "duration": 159,
    "start_time": "2024-01-11T04:43:14.067Z"
   },
   {
    "duration": 9,
    "start_time": "2024-01-11T04:43:14.227Z"
   },
   {
    "duration": 7,
    "start_time": "2024-01-11T04:43:14.238Z"
   },
   {
    "duration": 10,
    "start_time": "2024-01-11T04:43:14.247Z"
   },
   {
    "duration": 7,
    "start_time": "2024-01-11T04:43:14.258Z"
   },
   {
    "duration": 6,
    "start_time": "2024-01-11T04:43:14.266Z"
   },
   {
    "duration": 5,
    "start_time": "2024-01-11T04:43:14.273Z"
   },
   {
    "duration": 119,
    "start_time": "2024-01-11T04:43:14.279Z"
   },
   {
    "duration": 3,
    "start_time": "2024-01-11T04:43:14.399Z"
   },
   {
    "duration": 12,
    "start_time": "2024-01-11T04:43:14.403Z"
   },
   {
    "duration": 4,
    "start_time": "2024-01-11T04:43:14.417Z"
   },
   {
    "duration": 11,
    "start_time": "2024-01-11T04:43:14.422Z"
   },
   {
    "duration": 99,
    "start_time": "2024-01-11T04:43:14.435Z"
   },
   {
    "duration": 6,
    "start_time": "2024-01-11T04:43:14.535Z"
   },
   {
    "duration": 8,
    "start_time": "2024-01-11T04:43:14.543Z"
   },
   {
    "duration": 5,
    "start_time": "2024-01-11T04:43:14.552Z"
   },
   {
    "duration": 9,
    "start_time": "2024-01-11T04:43:14.560Z"
   },
   {
    "duration": 511,
    "start_time": "2024-01-11T04:43:14.571Z"
   },
   {
    "duration": 8,
    "start_time": "2024-01-11T04:43:15.084Z"
   },
   {
    "duration": 262,
    "start_time": "2024-01-11T04:43:15.093Z"
   },
   {
    "duration": 260,
    "start_time": "2024-01-11T04:43:15.357Z"
   },
   {
    "duration": 355,
    "start_time": "2024-01-11T04:43:15.618Z"
   },
   {
    "duration": 280,
    "start_time": "2024-01-11T04:43:15.974Z"
   },
   {
    "duration": 373,
    "start_time": "2024-01-11T04:43:16.255Z"
   },
   {
    "duration": 141,
    "start_time": "2024-01-11T04:43:16.630Z"
   },
   {
    "duration": 5,
    "start_time": "2024-01-11T04:43:16.772Z"
   },
   {
    "duration": 140,
    "start_time": "2024-01-11T04:43:16.778Z"
   },
   {
    "duration": 197,
    "start_time": "2024-01-11T04:43:16.919Z"
   },
   {
    "duration": 6,
    "start_time": "2024-01-11T04:43:17.118Z"
   },
   {
    "duration": 449,
    "start_time": "2024-01-11T04:43:17.125Z"
   },
   {
    "duration": 13,
    "start_time": "2024-01-11T04:43:17.575Z"
   },
   {
    "duration": 9,
    "start_time": "2024-01-11T04:43:17.589Z"
   },
   {
    "duration": 9,
    "start_time": "2024-01-11T04:43:17.615Z"
   },
   {
    "duration": 4,
    "start_time": "2024-01-11T04:43:17.626Z"
   },
   {
    "duration": 28,
    "start_time": "2024-01-11T04:43:17.631Z"
   },
   {
    "duration": 12,
    "start_time": "2024-01-11T04:43:17.661Z"
   },
   {
    "duration": 2313,
    "start_time": "2024-01-11T07:29:19.121Z"
   },
   {
    "duration": 1038,
    "start_time": "2024-01-11T07:29:21.436Z"
   },
   {
    "duration": 145,
    "start_time": "2024-01-11T07:29:22.476Z"
   },
   {
    "duration": 41,
    "start_time": "2024-01-11T07:29:22.622Z"
   },
   {
    "duration": 3,
    "start_time": "2024-01-11T07:29:22.665Z"
   },
   {
    "duration": 13,
    "start_time": "2024-01-11T07:29:22.669Z"
   },
   {
    "duration": 29,
    "start_time": "2024-01-11T07:29:22.683Z"
   },
   {
    "duration": 9,
    "start_time": "2024-01-11T07:29:22.713Z"
   },
   {
    "duration": 23,
    "start_time": "2024-01-11T07:29:22.723Z"
   },
   {
    "duration": 5,
    "start_time": "2024-01-11T07:29:22.748Z"
   },
   {
    "duration": 6,
    "start_time": "2024-01-11T07:29:22.754Z"
   },
   {
    "duration": 242,
    "start_time": "2024-01-11T07:29:22.761Z"
   },
   {
    "duration": 7,
    "start_time": "2024-01-11T07:29:23.005Z"
   },
   {
    "duration": 11,
    "start_time": "2024-01-11T07:29:23.015Z"
   },
   {
    "duration": 24,
    "start_time": "2024-01-11T07:29:23.027Z"
   },
   {
    "duration": 7,
    "start_time": "2024-01-11T07:29:23.052Z"
   },
   {
    "duration": 15,
    "start_time": "2024-01-11T07:29:23.061Z"
   },
   {
    "duration": 14,
    "start_time": "2024-01-11T07:29:23.078Z"
   },
   {
    "duration": 101,
    "start_time": "2024-01-11T07:29:23.094Z"
   },
   {
    "duration": 3,
    "start_time": "2024-01-11T07:29:23.196Z"
   },
   {
    "duration": 7,
    "start_time": "2024-01-11T07:29:23.201Z"
   },
   {
    "duration": 13,
    "start_time": "2024-01-11T07:29:23.215Z"
   },
   {
    "duration": 17,
    "start_time": "2024-01-11T07:29:23.229Z"
   },
   {
    "duration": 123,
    "start_time": "2024-01-11T07:29:23.247Z"
   },
   {
    "duration": 7,
    "start_time": "2024-01-11T07:29:23.371Z"
   },
   {
    "duration": 20,
    "start_time": "2024-01-11T07:29:23.380Z"
   },
   {
    "duration": 30,
    "start_time": "2024-01-11T07:29:23.401Z"
   },
   {
    "duration": 39,
    "start_time": "2024-01-11T07:29:23.433Z"
   },
   {
    "duration": 474,
    "start_time": "2024-01-11T07:29:23.473Z"
   },
   {
    "duration": 7,
    "start_time": "2024-01-11T07:29:23.949Z"
   },
   {
    "duration": 290,
    "start_time": "2024-01-11T07:29:23.957Z"
   },
   {
    "duration": 275,
    "start_time": "2024-01-11T07:29:24.249Z"
   },
   {
    "duration": 389,
    "start_time": "2024-01-11T07:29:24.526Z"
   },
   {
    "duration": 286,
    "start_time": "2024-01-11T07:29:24.916Z"
   },
   {
    "duration": 360,
    "start_time": "2024-01-11T07:29:25.204Z"
   },
   {
    "duration": 138,
    "start_time": "2024-01-11T07:29:25.565Z"
   },
   {
    "duration": 4,
    "start_time": "2024-01-11T07:29:25.714Z"
   },
   {
    "duration": 144,
    "start_time": "2024-01-11T07:29:25.720Z"
   },
   {
    "duration": 197,
    "start_time": "2024-01-11T07:29:25.865Z"
   },
   {
    "duration": 5,
    "start_time": "2024-01-11T07:29:26.063Z"
   },
   {
    "duration": 434,
    "start_time": "2024-01-11T07:29:26.071Z"
   },
   {
    "duration": 16,
    "start_time": "2024-01-11T07:29:26.506Z"
   },
   {
    "duration": 8,
    "start_time": "2024-01-11T07:29:26.524Z"
   },
   {
    "duration": 11,
    "start_time": "2024-01-11T07:29:26.534Z"
   },
   {
    "duration": 11,
    "start_time": "2024-01-11T07:29:26.547Z"
   },
   {
    "duration": 28,
    "start_time": "2024-01-11T07:29:26.559Z"
   },
   {
    "duration": 30,
    "start_time": "2024-01-11T07:29:26.589Z"
   },
   {
    "duration": 3513,
    "start_time": "2024-01-12T00:58:41.462Z"
   },
   {
    "duration": 1114,
    "start_time": "2024-01-12T00:58:44.977Z"
   },
   {
    "duration": 212,
    "start_time": "2024-01-12T00:58:46.092Z"
   },
   {
    "duration": 36,
    "start_time": "2024-01-12T00:58:46.306Z"
   },
   {
    "duration": 3,
    "start_time": "2024-01-12T00:58:46.343Z"
   },
   {
    "duration": 13,
    "start_time": "2024-01-12T00:58:46.347Z"
   },
   {
    "duration": 5,
    "start_time": "2024-01-12T00:58:46.361Z"
   },
   {
    "duration": 10,
    "start_time": "2024-01-12T00:58:46.367Z"
   },
   {
    "duration": 9,
    "start_time": "2024-01-12T00:58:46.378Z"
   },
   {
    "duration": 6,
    "start_time": "2024-01-12T00:58:46.389Z"
   },
   {
    "duration": 8,
    "start_time": "2024-01-12T00:58:46.396Z"
   },
   {
    "duration": 147,
    "start_time": "2024-01-12T00:58:46.405Z"
   },
   {
    "duration": 6,
    "start_time": "2024-01-12T00:58:46.554Z"
   },
   {
    "duration": 5,
    "start_time": "2024-01-12T00:58:46.561Z"
   },
   {
    "duration": 13,
    "start_time": "2024-01-12T00:58:46.567Z"
   },
   {
    "duration": 7,
    "start_time": "2024-01-12T00:58:46.581Z"
   },
   {
    "duration": 5,
    "start_time": "2024-01-12T00:58:46.589Z"
   },
   {
    "duration": 4,
    "start_time": "2024-01-12T00:58:46.595Z"
   },
   {
    "duration": 95,
    "start_time": "2024-01-12T00:58:46.600Z"
   },
   {
    "duration": 2,
    "start_time": "2024-01-12T00:58:46.696Z"
   },
   {
    "duration": 5,
    "start_time": "2024-01-12T00:58:46.699Z"
   },
   {
    "duration": 8,
    "start_time": "2024-01-12T00:58:46.706Z"
   },
   {
    "duration": 8,
    "start_time": "2024-01-12T00:58:46.715Z"
   },
   {
    "duration": 122,
    "start_time": "2024-01-12T00:58:46.725Z"
   },
   {
    "duration": 6,
    "start_time": "2024-01-12T00:58:46.848Z"
   },
   {
    "duration": 16,
    "start_time": "2024-01-12T00:58:46.856Z"
   },
   {
    "duration": 5,
    "start_time": "2024-01-12T00:58:46.873Z"
   },
   {
    "duration": 7,
    "start_time": "2024-01-12T00:58:46.881Z"
   },
   {
    "duration": 478,
    "start_time": "2024-01-12T00:58:46.889Z"
   },
   {
    "duration": 7,
    "start_time": "2024-01-12T00:58:47.368Z"
   },
   {
    "duration": 240,
    "start_time": "2024-01-12T00:58:47.376Z"
   },
   {
    "duration": 239,
    "start_time": "2024-01-12T00:58:47.617Z"
   },
   {
    "duration": 386,
    "start_time": "2024-01-12T00:58:47.858Z"
   },
   {
    "duration": 262,
    "start_time": "2024-01-12T00:58:48.245Z"
   },
   {
    "duration": 367,
    "start_time": "2024-01-12T00:58:48.508Z"
   },
   {
    "duration": 134,
    "start_time": "2024-01-12T00:58:48.876Z"
   },
   {
    "duration": 4,
    "start_time": "2024-01-12T00:58:49.012Z"
   },
   {
    "duration": 126,
    "start_time": "2024-01-12T00:58:49.017Z"
   },
   {
    "duration": 185,
    "start_time": "2024-01-12T00:58:49.144Z"
   },
   {
    "duration": 4,
    "start_time": "2024-01-12T00:58:49.331Z"
   },
   {
    "duration": 417,
    "start_time": "2024-01-12T00:58:49.336Z"
   },
   {
    "duration": 11,
    "start_time": "2024-01-12T00:58:49.754Z"
   },
   {
    "duration": 9,
    "start_time": "2024-01-12T00:58:49.766Z"
   },
   {
    "duration": 8,
    "start_time": "2024-01-12T00:58:49.776Z"
   },
   {
    "duration": 3,
    "start_time": "2024-01-12T00:58:49.785Z"
   },
   {
    "duration": 25,
    "start_time": "2024-01-12T00:58:49.790Z"
   },
   {
    "duration": 42,
    "start_time": "2024-01-12T00:58:49.816Z"
   },
   {
    "duration": 6,
    "start_time": "2024-01-12T00:59:36.460Z"
   },
   {
    "duration": 6,
    "start_time": "2024-01-12T00:59:45.175Z"
   },
   {
    "duration": 6,
    "start_time": "2024-01-12T01:00:45.628Z"
   },
   {
    "duration": 8,
    "start_time": "2024-01-12T01:00:47.287Z"
   }
  ],
  "kernelspec": {
   "display_name": "Python 3 (ipykernel)",
   "language": "python",
   "name": "python3"
  },
  "language_info": {
   "codemirror_mode": {
    "name": "ipython",
    "version": 3
   },
   "file_extension": ".py",
   "mimetype": "text/x-python",
   "name": "python",
   "nbconvert_exporter": "python",
   "pygments_lexer": "ipython3",
   "version": "3.11.4"
  },
  "toc": {
   "base_numbering": 1,
   "nav_menu": {},
   "number_sections": true,
   "sideBar": true,
   "skip_h1_title": true,
   "title_cell": "Table of Contents",
   "title_sidebar": "Contents",
   "toc_cell": false,
   "toc_position": {},
   "toc_section_display": true,
   "toc_window_display": false
  }
 },
 "nbformat": 4,
 "nbformat_minor": 5
}
